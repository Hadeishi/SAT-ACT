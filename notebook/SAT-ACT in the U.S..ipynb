{
 "cells": [
  {
   "cell_type": "markdown",
   "metadata": {
    "nbpresent": {
     "id": "d02fd68d-c465-4766-9f5d-a737fbe41afc"
    }
   },
   "source": [
    "# SAT/ACT in the U.S."
   ]
  },
  {
   "cell_type": "markdown",
   "metadata": {
    "nbpresent": {
     "id": "d1b472e9-ff89-4fe8-b02f-8e5038fbe047"
    }
   },
   "source": [
    "## Step 1: Load the data and perform basic operations."
   ]
  },
  {
   "cell_type": "markdown",
   "metadata": {
    "nbpresent": {
     "id": "48e27c3c-2521-416a-ae8c-43513147748e"
    }
   },
   "source": [
    "##### 1. Load the data in using pandas."
   ]
  },
  {
   "cell_type": "code",
   "execution_count": 1,
   "metadata": {
    "nbpresent": {
     "id": "464f300f-b67c-4aae-b1cd-49fd5217b834"
    }
   },
   "outputs": [],
   "source": [
    "import pandas as pd\n",
    "import numpy as np\n",
    "import matplotlib.pyplot as plt\n",
    "import seaborn as sns\n",
    "%matplotlib inline"
   ]
  },
  {
   "cell_type": "code",
   "execution_count": 2,
   "metadata": {
    "nbpresent": {
     "id": "13c35438-5e3f-4dd3-a409-38c8666699a3"
    }
   },
   "outputs": [],
   "source": [
    "act_df = pd.read_csv('../data/act.csv', index_col=0)"
   ]
  },
  {
   "cell_type": "code",
   "execution_count": 3,
   "metadata": {
    "nbpresent": {
     "id": "51855dc7-4e59-42dc-8698-ec10716155da"
    }
   },
   "outputs": [],
   "source": [
    "sat_df = pd.read_csv('../data/sat.csv', index_col=0)"
   ]
  },
  {
   "cell_type": "markdown",
   "metadata": {
    "nbpresent": {
     "id": "7d331281-143e-495c-a675-e29d27452f87"
    }
   },
   "source": [
    "##### 2. Print the first ten rows of each dataframe."
   ]
  },
  {
   "cell_type": "code",
   "execution_count": 4,
   "metadata": {},
   "outputs": [
    {
     "data": {
      "text/html": [
       "<div>\n",
       "<style scoped>\n",
       "    .dataframe tbody tr th:only-of-type {\n",
       "        vertical-align: middle;\n",
       "    }\n",
       "\n",
       "    .dataframe tbody tr th {\n",
       "        vertical-align: top;\n",
       "    }\n",
       "\n",
       "    .dataframe thead th {\n",
       "        text-align: right;\n",
       "    }\n",
       "</style>\n",
       "<table border=\"1\" class=\"dataframe\">\n",
       "  <thead>\n",
       "    <tr style=\"text-align: right;\">\n",
       "      <th></th>\n",
       "      <th>State</th>\n",
       "      <th>Participation</th>\n",
       "      <th>Evidence-Based Reading and Writing</th>\n",
       "      <th>Math</th>\n",
       "      <th>Total</th>\n",
       "    </tr>\n",
       "  </thead>\n",
       "  <tbody>\n",
       "    <tr>\n",
       "      <th>0</th>\n",
       "      <td>Alabama</td>\n",
       "      <td>5%</td>\n",
       "      <td>593</td>\n",
       "      <td>572</td>\n",
       "      <td>1165</td>\n",
       "    </tr>\n",
       "    <tr>\n",
       "      <th>1</th>\n",
       "      <td>Alaska</td>\n",
       "      <td>38%</td>\n",
       "      <td>547</td>\n",
       "      <td>533</td>\n",
       "      <td>1080</td>\n",
       "    </tr>\n",
       "    <tr>\n",
       "      <th>2</th>\n",
       "      <td>Arizona</td>\n",
       "      <td>30%</td>\n",
       "      <td>563</td>\n",
       "      <td>553</td>\n",
       "      <td>1116</td>\n",
       "    </tr>\n",
       "    <tr>\n",
       "      <th>3</th>\n",
       "      <td>Arkansas</td>\n",
       "      <td>3%</td>\n",
       "      <td>614</td>\n",
       "      <td>594</td>\n",
       "      <td>1208</td>\n",
       "    </tr>\n",
       "    <tr>\n",
       "      <th>4</th>\n",
       "      <td>California</td>\n",
       "      <td>53%</td>\n",
       "      <td>531</td>\n",
       "      <td>524</td>\n",
       "      <td>1055</td>\n",
       "    </tr>\n",
       "    <tr>\n",
       "      <th>5</th>\n",
       "      <td>Colorado</td>\n",
       "      <td>11%</td>\n",
       "      <td>606</td>\n",
       "      <td>595</td>\n",
       "      <td>1201</td>\n",
       "    </tr>\n",
       "    <tr>\n",
       "      <th>6</th>\n",
       "      <td>Connecticut</td>\n",
       "      <td>100%</td>\n",
       "      <td>530</td>\n",
       "      <td>512</td>\n",
       "      <td>1041</td>\n",
       "    </tr>\n",
       "    <tr>\n",
       "      <th>7</th>\n",
       "      <td>Delaware</td>\n",
       "      <td>100%</td>\n",
       "      <td>503</td>\n",
       "      <td>492</td>\n",
       "      <td>996</td>\n",
       "    </tr>\n",
       "    <tr>\n",
       "      <th>8</th>\n",
       "      <td>District of Columbia</td>\n",
       "      <td>100%</td>\n",
       "      <td>482</td>\n",
       "      <td>468</td>\n",
       "      <td>950</td>\n",
       "    </tr>\n",
       "    <tr>\n",
       "      <th>9</th>\n",
       "      <td>Florida</td>\n",
       "      <td>83%</td>\n",
       "      <td>520</td>\n",
       "      <td>497</td>\n",
       "      <td>1017</td>\n",
       "    </tr>\n",
       "  </tbody>\n",
       "</table>\n",
       "</div>"
      ],
      "text/plain": [
       "                  State Participation  Evidence-Based Reading and Writing  \\\n",
       "0               Alabama            5%                                 593   \n",
       "1                Alaska           38%                                 547   \n",
       "2               Arizona           30%                                 563   \n",
       "3              Arkansas            3%                                 614   \n",
       "4            California           53%                                 531   \n",
       "5              Colorado           11%                                 606   \n",
       "6           Connecticut          100%                                 530   \n",
       "7              Delaware          100%                                 503   \n",
       "8  District of Columbia          100%                                 482   \n",
       "9               Florida           83%                                 520   \n",
       "\n",
       "   Math  Total  \n",
       "0   572   1165  \n",
       "1   533   1080  \n",
       "2   553   1116  \n",
       "3   594   1208  \n",
       "4   524   1055  \n",
       "5   595   1201  \n",
       "6   512   1041  \n",
       "7   492    996  \n",
       "8   468    950  \n",
       "9   497   1017  "
      ]
     },
     "execution_count": 4,
     "metadata": {},
     "output_type": "execute_result"
    }
   ],
   "source": [
    "sat_df[:10]"
   ]
  },
  {
   "cell_type": "code",
   "execution_count": 5,
   "metadata": {
    "nbpresent": {
     "id": "32e0e911-8a0e-434b-8e57-09a3029dd9d8"
    }
   },
   "outputs": [
    {
     "data": {
      "text/html": [
       "<div>\n",
       "<style scoped>\n",
       "    .dataframe tbody tr th:only-of-type {\n",
       "        vertical-align: middle;\n",
       "    }\n",
       "\n",
       "    .dataframe tbody tr th {\n",
       "        vertical-align: top;\n",
       "    }\n",
       "\n",
       "    .dataframe thead th {\n",
       "        text-align: right;\n",
       "    }\n",
       "</style>\n",
       "<table border=\"1\" class=\"dataframe\">\n",
       "  <thead>\n",
       "    <tr style=\"text-align: right;\">\n",
       "      <th></th>\n",
       "      <th>State</th>\n",
       "      <th>Participation</th>\n",
       "      <th>English</th>\n",
       "      <th>Math</th>\n",
       "      <th>Reading</th>\n",
       "      <th>Science</th>\n",
       "      <th>Composite</th>\n",
       "    </tr>\n",
       "  </thead>\n",
       "  <tbody>\n",
       "    <tr>\n",
       "      <th>0</th>\n",
       "      <td>National</td>\n",
       "      <td>60%</td>\n",
       "      <td>20.3</td>\n",
       "      <td>20.7</td>\n",
       "      <td>21.4</td>\n",
       "      <td>21.0</td>\n",
       "      <td>21.0</td>\n",
       "    </tr>\n",
       "    <tr>\n",
       "      <th>1</th>\n",
       "      <td>Alabama</td>\n",
       "      <td>100%</td>\n",
       "      <td>18.9</td>\n",
       "      <td>18.4</td>\n",
       "      <td>19.7</td>\n",
       "      <td>19.4</td>\n",
       "      <td>19.2</td>\n",
       "    </tr>\n",
       "    <tr>\n",
       "      <th>2</th>\n",
       "      <td>Alaska</td>\n",
       "      <td>65%</td>\n",
       "      <td>18.7</td>\n",
       "      <td>19.8</td>\n",
       "      <td>20.4</td>\n",
       "      <td>19.9</td>\n",
       "      <td>19.8</td>\n",
       "    </tr>\n",
       "    <tr>\n",
       "      <th>3</th>\n",
       "      <td>Arizona</td>\n",
       "      <td>62%</td>\n",
       "      <td>18.6</td>\n",
       "      <td>19.8</td>\n",
       "      <td>20.1</td>\n",
       "      <td>19.8</td>\n",
       "      <td>19.7</td>\n",
       "    </tr>\n",
       "    <tr>\n",
       "      <th>4</th>\n",
       "      <td>Arkansas</td>\n",
       "      <td>100%</td>\n",
       "      <td>18.9</td>\n",
       "      <td>19.0</td>\n",
       "      <td>19.7</td>\n",
       "      <td>19.5</td>\n",
       "      <td>19.4</td>\n",
       "    </tr>\n",
       "    <tr>\n",
       "      <th>5</th>\n",
       "      <td>California</td>\n",
       "      <td>31%</td>\n",
       "      <td>22.5</td>\n",
       "      <td>22.7</td>\n",
       "      <td>23.1</td>\n",
       "      <td>22.2</td>\n",
       "      <td>22.8</td>\n",
       "    </tr>\n",
       "    <tr>\n",
       "      <th>6</th>\n",
       "      <td>Colorado</td>\n",
       "      <td>100%</td>\n",
       "      <td>20.1</td>\n",
       "      <td>20.3</td>\n",
       "      <td>21.2</td>\n",
       "      <td>20.9</td>\n",
       "      <td>20.8</td>\n",
       "    </tr>\n",
       "    <tr>\n",
       "      <th>7</th>\n",
       "      <td>Connecticut</td>\n",
       "      <td>31%</td>\n",
       "      <td>25.5</td>\n",
       "      <td>24.6</td>\n",
       "      <td>25.6</td>\n",
       "      <td>24.6</td>\n",
       "      <td>25.2</td>\n",
       "    </tr>\n",
       "    <tr>\n",
       "      <th>8</th>\n",
       "      <td>Delaware</td>\n",
       "      <td>18%</td>\n",
       "      <td>24.1</td>\n",
       "      <td>23.4</td>\n",
       "      <td>24.8</td>\n",
       "      <td>23.6</td>\n",
       "      <td>24.1</td>\n",
       "    </tr>\n",
       "    <tr>\n",
       "      <th>9</th>\n",
       "      <td>District of Columbia</td>\n",
       "      <td>32%</td>\n",
       "      <td>24.4</td>\n",
       "      <td>23.5</td>\n",
       "      <td>24.9</td>\n",
       "      <td>23.5</td>\n",
       "      <td>24.2</td>\n",
       "    </tr>\n",
       "  </tbody>\n",
       "</table>\n",
       "</div>"
      ],
      "text/plain": [
       "                  State Participation  English  Math  Reading  Science  \\\n",
       "0              National           60%     20.3  20.7     21.4     21.0   \n",
       "1               Alabama          100%     18.9  18.4     19.7     19.4   \n",
       "2                Alaska           65%     18.7  19.8     20.4     19.9   \n",
       "3               Arizona           62%     18.6  19.8     20.1     19.8   \n",
       "4              Arkansas          100%     18.9  19.0     19.7     19.5   \n",
       "5            California           31%     22.5  22.7     23.1     22.2   \n",
       "6              Colorado          100%     20.1  20.3     21.2     20.9   \n",
       "7           Connecticut           31%     25.5  24.6     25.6     24.6   \n",
       "8              Delaware           18%     24.1  23.4     24.8     23.6   \n",
       "9  District of Columbia           32%     24.4  23.5     24.9     23.5   \n",
       "\n",
       "   Composite  \n",
       "0       21.0  \n",
       "1       19.2  \n",
       "2       19.8  \n",
       "3       19.7  \n",
       "4       19.4  \n",
       "5       22.8  \n",
       "6       20.8  \n",
       "7       25.2  \n",
       "8       24.1  \n",
       "9       24.2  "
      ]
     },
     "execution_count": 5,
     "metadata": {},
     "output_type": "execute_result"
    }
   ],
   "source": [
    "act_df[:10]"
   ]
  },
  {
   "cell_type": "markdown",
   "metadata": {
    "nbpresent": {
     "id": "3894841f-fcb1-43a2-a3d0-722f9bd3732d"
    }
   },
   "source": [
    "##### 3. Describe each variable (i.e., each column):"
   ]
  },
  {
   "cell_type": "markdown",
   "metadata": {
    "nbpresent": {
     "id": "e7375250-8b3f-44ee-85ed-3d19ec87ac36"
    }
   },
   "source": [
    "Each column is a variable that most likely represents average student scores from a given state, or from the nation as a whole in the case of the ACT, on the various sub-tests of two commonly known college entrance exams. There is also a \"Participation\" variable for each test which is somewhat difficult to interpret. It is possible that it represents the percentage of students who took the tests in each state."
   ]
  },
  {
   "cell_type": "markdown",
   "metadata": {
    "nbpresent": {
     "id": "5a323394-05e0-43dd-ae79-f5b729b2cbbd"
    }
   },
   "source": [
    "##### 4. Does the data look complete? Are there any obvious issues with the observations?"
   ]
  },
  {
   "cell_type": "code",
   "execution_count": 6,
   "metadata": {
    "nbpresent": {
     "id": "2fcf2dcd-b436-4cd7-a2a3-f0465bca1cad"
    }
   },
   "outputs": [
    {
     "name": "stdout",
     "output_type": "stream",
     "text": [
      "<class 'pandas.core.frame.DataFrame'>\n",
      "Int64Index: 51 entries, 0 to 50\n",
      "Data columns (total 5 columns):\n",
      "State                                 51 non-null object\n",
      "Participation                         51 non-null object\n",
      "Evidence-Based Reading and Writing    51 non-null int64\n",
      "Math                                  51 non-null int64\n",
      "Total                                 51 non-null int64\n",
      "dtypes: int64(3), object(2)\n",
      "memory usage: 2.4+ KB\n"
     ]
    }
   ],
   "source": [
    "sat_df.info()"
   ]
  },
  {
   "cell_type": "code",
   "execution_count": 7,
   "metadata": {
    "nbpresent": {
     "id": "9acca2de-a7a4-4bdb-b713-91cf6c2a1752"
    }
   },
   "outputs": [
    {
     "name": "stdout",
     "output_type": "stream",
     "text": [
      "<class 'pandas.core.frame.DataFrame'>\n",
      "Int64Index: 52 entries, 0 to 51\n",
      "Data columns (total 7 columns):\n",
      "State            52 non-null object\n",
      "Participation    52 non-null object\n",
      "English          52 non-null float64\n",
      "Math             52 non-null float64\n",
      "Reading          52 non-null float64\n",
      "Science          52 non-null float64\n",
      "Composite        52 non-null float64\n",
      "dtypes: float64(5), object(2)\n",
      "memory usage: 3.2+ KB\n"
     ]
    }
   ],
   "source": [
    "act_df.info()"
   ]
  },
  {
   "cell_type": "markdown",
   "metadata": {
    "nbpresent": {
     "id": "4e57f57c-e3da-4661-99a1-22161ff6e209"
    }
   },
   "source": [
    "A cursory glance at the data do not reveal any glaring omissions. There appears to be data for every state in the Union, albeit with what appear to be paltry participation rates in some cases and in others the participation rate is a somewhat unbelievable 100%. Two of the variables are objects while the rest are floats.\n",
    "\n",
    "Somewhat more detailed examination revealed at least one possible typo. This was seen when I scanned a list of SAT scores that printed out when I looked at sat.df. It stood out the score was only two digits long and the rest of the states' scores were three digits long. The SAT Math score from one state, Maryland, was mistakenly listed as 52, which is lower than the lowest possible score on this section of the SAT, a 200. The score was updated to 524, since we were given Maryland's combined Math and Verbal scores and their Verbal score:"
   ]
  },
  {
   "cell_type": "code",
   "execution_count": 8,
   "metadata": {},
   "outputs": [],
   "source": [
    "Maryland = 20   ### Maryland is the 20th row on the SAT data"
   ]
  },
  {
   "cell_type": "code",
   "execution_count": 9,
   "metadata": {
    "nbpresent": {
     "id": "9bca296a-9fc7-4116-b62b-2d097b697ce8"
    }
   },
   "outputs": [
    {
     "data": {
      "text/plain": [
       "52"
      ]
     },
     "execution_count": 9,
     "metadata": {},
     "output_type": "execute_result"
    }
   ],
   "source": [
    "sat_df.loc[Maryland, 'Math']"
   ]
  },
  {
   "cell_type": "code",
   "execution_count": 10,
   "metadata": {
    "nbpresent": {
     "id": "092c0dae-39b6-4710-8a50-2f008ad74cce"
    }
   },
   "outputs": [
    {
     "data": {
      "text/plain": [
       "524"
      ]
     },
     "execution_count": 10,
     "metadata": {},
     "output_type": "execute_result"
    }
   ],
   "source": [
    "sat_df.loc[Maryland, 'Total'] - sat_df.loc[20, 'Evidence-Based Reading and Writing']"
   ]
  },
  {
   "cell_type": "markdown",
   "metadata": {
    "nbpresent": {
     "id": "7cb54996-e804-482e-88c5-97430be6b820"
    }
   },
   "source": [
    "I therefore decided it was justifiable to change Maryland's average Math test scores on the SAT score to 524."
   ]
  },
  {
   "cell_type": "code",
   "execution_count": 11,
   "metadata": {
    "nbpresent": {
     "id": "662703df-30ab-4b98-a279-a9835a52a120"
    }
   },
   "outputs": [],
   "source": [
    "sat_df.loc[Maryland, 'Math'] = 524"
   ]
  },
  {
   "cell_type": "code",
   "execution_count": 12,
   "metadata": {},
   "outputs": [
    {
     "data": {
      "text/plain": [
       "524"
      ]
     },
     "execution_count": 12,
     "metadata": {},
     "output_type": "execute_result"
    }
   ],
   "source": [
    "sat_df.loc[Maryland, 'Math']"
   ]
  },
  {
   "cell_type": "markdown",
   "metadata": {},
   "source": [
    "Spotting this typo inspired a close examination of all the data. This uncovered a second typo, this time in the average ACT Science score for Maryland:"
   ]
  },
  {
   "cell_type": "code",
   "execution_count": 13,
   "metadata": {},
   "outputs": [],
   "source": [
    "Maryland = 21     ### Maryland is the 21st row in the ACT data"
   ]
  },
  {
   "cell_type": "code",
   "execution_count": 14,
   "metadata": {},
   "outputs": [
    {
     "data": {
      "text/plain": [
       "2.3"
      ]
     },
     "execution_count": 14,
     "metadata": {},
     "output_type": "execute_result"
    }
   ],
   "source": [
    "act_df.loc[Maryland, 'Science']"
   ]
  },
  {
   "cell_type": "code",
   "execution_count": 15,
   "metadata": {},
   "outputs": [
    {
     "data": {
      "text/plain": [
       "English      23.3\n",
       "Math         23.1\n",
       "Reading      24.2\n",
       "Composite    23.6\n",
       "Name: 21, dtype: object"
      ]
     },
     "execution_count": 15,
     "metadata": {},
     "output_type": "execute_result"
    }
   ],
   "source": [
    "act_df.loc[Maryland, ['English', 'Math', 'Reading', 'Composite']]"
   ]
  },
  {
   "cell_type": "markdown",
   "metadata": {},
   "source": [
    "This value was also easily interpolated since we have the apparently correct scores for English, Math, Reading, and the ACT Composite score which is the average of all four of the other scores.  A bit of algebra and we can calculate the likely Science score for Maryland: "
   ]
  },
  {
   "cell_type": "code",
   "execution_count": 16,
   "metadata": {},
   "outputs": [
    {
     "data": {
      "text/plain": [
       "23.799999999999997"
      ]
     },
     "execution_count": 16,
     "metadata": {},
     "output_type": "execute_result"
    }
   ],
   "source": [
    "(23.6 - (23.3 + 23.1 + 24.2)/4) *4"
   ]
  },
  {
   "cell_type": "code",
   "execution_count": 17,
   "metadata": {},
   "outputs": [],
   "source": [
    "act_df.loc[Maryland, 'Science'] = 23.8"
   ]
  },
  {
   "cell_type": "code",
   "execution_count": 18,
   "metadata": {},
   "outputs": [
    {
     "data": {
      "text/plain": [
       "23.8"
      ]
     },
     "execution_count": 18,
     "metadata": {},
     "output_type": "execute_result"
    }
   ],
   "source": [
    "act_df.loc[Maryland, 'Science']"
   ]
  },
  {
   "cell_type": "markdown",
   "metadata": {
    "nbpresent": {
     "id": "842aff07-1b5f-43b1-8c60-c7500871369e"
    }
   },
   "source": [
    "##### 5. Print the types of each column."
   ]
  },
  {
   "cell_type": "code",
   "execution_count": 19,
   "metadata": {
    "nbpresent": {
     "id": "a9b9c941-a713-45ce-bb4b-bd6a19b987af"
    },
    "scrolled": true
   },
   "outputs": [
    {
     "data": {
      "text/plain": [
       "State                                 object\n",
       "Participation                         object\n",
       "Evidence-Based Reading and Writing     int64\n",
       "Math                                   int64\n",
       "Total                                  int64\n",
       "dtype: object"
      ]
     },
     "execution_count": 19,
     "metadata": {},
     "output_type": "execute_result"
    }
   ],
   "source": [
    "sat_df.dtypes"
   ]
  },
  {
   "cell_type": "code",
   "execution_count": 20,
   "metadata": {
    "nbpresent": {
     "id": "b8b0d49d-fb93-49ca-b6d2-e98cb13c33a9"
    }
   },
   "outputs": [
    {
     "data": {
      "text/plain": [
       "State             object\n",
       "Participation     object\n",
       "English          float64\n",
       "Math             float64\n",
       "Reading          float64\n",
       "Science          float64\n",
       "Composite        float64\n",
       "dtype: object"
      ]
     },
     "execution_count": 20,
     "metadata": {},
     "output_type": "execute_result"
    }
   ],
   "source": [
    "act_df.dtypes"
   ]
  },
  {
   "cell_type": "markdown",
   "metadata": {
    "nbpresent": {
     "id": "45b82d9d-afcc-497b-a86b-45b9cf6e5928"
    }
   },
   "source": [
    "##### 6. Do any types need to be reassigned? If so, go ahead and do it."
   ]
  },
  {
   "cell_type": "markdown",
   "metadata": {
    "nbpresent": {
     "id": "0a2c2f0f-b490-4b1a-bf19-7bd5340e7373"
    }
   },
   "source": [
    "Participation rates are object types even though they are eminently quantifiable, being percentages. Reassign values:"
   ]
  },
  {
   "cell_type": "code",
   "execution_count": 21,
   "metadata": {
    "nbpresent": {
     "id": "9febcc3a-64b5-4fbc-b9f1-27eb5048cfed"
    }
   },
   "outputs": [
    {
     "data": {
      "text/plain": [
       "array(['5%', '38%', '30%', '3%', '53%', '11%', '100%', '100%', '100%',\n",
       "       '83%'], dtype=object)"
      ]
     },
     "execution_count": 21,
     "metadata": {},
     "output_type": "execute_result"
    }
   ],
   "source": [
    "sat_df.Participation[0:10].values"
   ]
  },
  {
   "cell_type": "code",
   "execution_count": 22,
   "metadata": {
    "nbpresent": {
     "id": "ee49ce3d-f874-4bdb-8b40-a59814fcd525"
    }
   },
   "outputs": [],
   "source": [
    "sat_df.Participation = sat_df.Participation.map(lambda x: float(x.replace('%', '')))"
   ]
  },
  {
   "cell_type": "code",
   "execution_count": 23,
   "metadata": {
    "nbpresent": {
     "id": "695594bb-8220-4164-95a6-add09e566d3c"
    }
   },
   "outputs": [],
   "source": [
    "sat_df.Participation = sat_df.Participation.map(lambda x: float(x/100))"
   ]
  },
  {
   "cell_type": "code",
   "execution_count": 24,
   "metadata": {
    "nbpresent": {
     "id": "2a0b827e-ecd2-4f52-882c-1016e11fa088"
    }
   },
   "outputs": [],
   "source": [
    "act_df.Participation = act_df.Participation.map(lambda x: float(x.replace('%', '')))"
   ]
  },
  {
   "cell_type": "code",
   "execution_count": 25,
   "metadata": {
    "nbpresent": {
     "id": "0da3a87e-c19a-4853-827e-a204cc26e7eb"
    }
   },
   "outputs": [],
   "source": [
    "act_df.Participation = act_df.Participation.map(lambda x: float(x/100))"
   ]
  },
  {
   "cell_type": "code",
   "execution_count": 26,
   "metadata": {
    "nbpresent": {
     "id": "09c1b0b2-8cd9-49a8-b010-0e06567731d5"
    }
   },
   "outputs": [
    {
     "data": {
      "text/html": [
       "<div>\n",
       "<style scoped>\n",
       "    .dataframe tbody tr th:only-of-type {\n",
       "        vertical-align: middle;\n",
       "    }\n",
       "\n",
       "    .dataframe tbody tr th {\n",
       "        vertical-align: top;\n",
       "    }\n",
       "\n",
       "    .dataframe thead th {\n",
       "        text-align: right;\n",
       "    }\n",
       "</style>\n",
       "<table border=\"1\" class=\"dataframe\">\n",
       "  <thead>\n",
       "    <tr style=\"text-align: right;\">\n",
       "      <th></th>\n",
       "      <th>State</th>\n",
       "      <th>Participation</th>\n",
       "      <th>Evidence-Based Reading and Writing</th>\n",
       "      <th>Math</th>\n",
       "      <th>Total</th>\n",
       "    </tr>\n",
       "  </thead>\n",
       "  <tbody>\n",
       "    <tr>\n",
       "      <th>0</th>\n",
       "      <td>Alabama</td>\n",
       "      <td>0.05</td>\n",
       "      <td>593</td>\n",
       "      <td>572</td>\n",
       "      <td>1165</td>\n",
       "    </tr>\n",
       "    <tr>\n",
       "      <th>1</th>\n",
       "      <td>Alaska</td>\n",
       "      <td>0.38</td>\n",
       "      <td>547</td>\n",
       "      <td>533</td>\n",
       "      <td>1080</td>\n",
       "    </tr>\n",
       "    <tr>\n",
       "      <th>2</th>\n",
       "      <td>Arizona</td>\n",
       "      <td>0.30</td>\n",
       "      <td>563</td>\n",
       "      <td>553</td>\n",
       "      <td>1116</td>\n",
       "    </tr>\n",
       "    <tr>\n",
       "      <th>3</th>\n",
       "      <td>Arkansas</td>\n",
       "      <td>0.03</td>\n",
       "      <td>614</td>\n",
       "      <td>594</td>\n",
       "      <td>1208</td>\n",
       "    </tr>\n",
       "    <tr>\n",
       "      <th>4</th>\n",
       "      <td>California</td>\n",
       "      <td>0.53</td>\n",
       "      <td>531</td>\n",
       "      <td>524</td>\n",
       "      <td>1055</td>\n",
       "    </tr>\n",
       "  </tbody>\n",
       "</table>\n",
       "</div>"
      ],
      "text/plain": [
       "        State  Participation  Evidence-Based Reading and Writing  Math  Total\n",
       "0     Alabama           0.05                                 593   572   1165\n",
       "1      Alaska           0.38                                 547   533   1080\n",
       "2     Arizona           0.30                                 563   553   1116\n",
       "3    Arkansas           0.03                                 614   594   1208\n",
       "4  California           0.53                                 531   524   1055"
      ]
     },
     "execution_count": 26,
     "metadata": {},
     "output_type": "execute_result"
    }
   ],
   "source": [
    "sat_df[:5]"
   ]
  },
  {
   "cell_type": "code",
   "execution_count": 27,
   "metadata": {
    "nbpresent": {
     "id": "833b18a0-a5e7-4c7e-ac56-eda6b684cddd"
    }
   },
   "outputs": [
    {
     "data": {
      "text/html": [
       "<div>\n",
       "<style scoped>\n",
       "    .dataframe tbody tr th:only-of-type {\n",
       "        vertical-align: middle;\n",
       "    }\n",
       "\n",
       "    .dataframe tbody tr th {\n",
       "        vertical-align: top;\n",
       "    }\n",
       "\n",
       "    .dataframe thead th {\n",
       "        text-align: right;\n",
       "    }\n",
       "</style>\n",
       "<table border=\"1\" class=\"dataframe\">\n",
       "  <thead>\n",
       "    <tr style=\"text-align: right;\">\n",
       "      <th></th>\n",
       "      <th>State</th>\n",
       "      <th>Participation</th>\n",
       "      <th>English</th>\n",
       "      <th>Math</th>\n",
       "      <th>Reading</th>\n",
       "      <th>Science</th>\n",
       "      <th>Composite</th>\n",
       "    </tr>\n",
       "  </thead>\n",
       "  <tbody>\n",
       "    <tr>\n",
       "      <th>0</th>\n",
       "      <td>National</td>\n",
       "      <td>0.60</td>\n",
       "      <td>20.3</td>\n",
       "      <td>20.7</td>\n",
       "      <td>21.4</td>\n",
       "      <td>21.0</td>\n",
       "      <td>21.0</td>\n",
       "    </tr>\n",
       "    <tr>\n",
       "      <th>1</th>\n",
       "      <td>Alabama</td>\n",
       "      <td>1.00</td>\n",
       "      <td>18.9</td>\n",
       "      <td>18.4</td>\n",
       "      <td>19.7</td>\n",
       "      <td>19.4</td>\n",
       "      <td>19.2</td>\n",
       "    </tr>\n",
       "    <tr>\n",
       "      <th>2</th>\n",
       "      <td>Alaska</td>\n",
       "      <td>0.65</td>\n",
       "      <td>18.7</td>\n",
       "      <td>19.8</td>\n",
       "      <td>20.4</td>\n",
       "      <td>19.9</td>\n",
       "      <td>19.8</td>\n",
       "    </tr>\n",
       "    <tr>\n",
       "      <th>3</th>\n",
       "      <td>Arizona</td>\n",
       "      <td>0.62</td>\n",
       "      <td>18.6</td>\n",
       "      <td>19.8</td>\n",
       "      <td>20.1</td>\n",
       "      <td>19.8</td>\n",
       "      <td>19.7</td>\n",
       "    </tr>\n",
       "    <tr>\n",
       "      <th>4</th>\n",
       "      <td>Arkansas</td>\n",
       "      <td>1.00</td>\n",
       "      <td>18.9</td>\n",
       "      <td>19.0</td>\n",
       "      <td>19.7</td>\n",
       "      <td>19.5</td>\n",
       "      <td>19.4</td>\n",
       "    </tr>\n",
       "  </tbody>\n",
       "</table>\n",
       "</div>"
      ],
      "text/plain": [
       "      State  Participation  English  Math  Reading  Science  Composite\n",
       "0  National           0.60     20.3  20.7     21.4     21.0       21.0\n",
       "1   Alabama           1.00     18.9  18.4     19.7     19.4       19.2\n",
       "2    Alaska           0.65     18.7  19.8     20.4     19.9       19.8\n",
       "3   Arizona           0.62     18.6  19.8     20.1     19.8       19.7\n",
       "4  Arkansas           1.00     18.9  19.0     19.7     19.5       19.4"
      ]
     },
     "execution_count": 27,
     "metadata": {},
     "output_type": "execute_result"
    }
   ],
   "source": [
    "act_df[:5]"
   ]
  },
  {
   "cell_type": "markdown",
   "metadata": {
    "nbpresent": {
     "id": "e685c435-6625-4d05-aa14-c7de23c75dca"
    }
   },
   "source": [
    "##### 7. Create a dictionary for each column mapping the State to its respective value for that column. (For example, you should have three SAT dictionaries.)"
   ]
  },
  {
   "cell_type": "code",
   "execution_count": 28,
   "metadata": {
    "nbpresent": {
     "id": "544b37d2-e8f0-4d38-a09f-48df9570f01b"
    }
   },
   "outputs": [],
   "source": [
    "sat_df_col = sat_df.to_dict"
   ]
  },
  {
   "cell_type": "code",
   "execution_count": 29,
   "metadata": {
    "nbpresent": {
     "id": "e05d3690-e34d-4824-8314-1a085238928b"
    }
   },
   "outputs": [],
   "source": [
    "sat_by_column_dict = sat_df.set_index('State').to_dict()"
   ]
  },
  {
   "cell_type": "code",
   "execution_count": 30,
   "metadata": {},
   "outputs": [],
   "source": [
    "act_df_col = act_df.to_dict"
   ]
  },
  {
   "cell_type": "code",
   "execution_count": 31,
   "metadata": {},
   "outputs": [],
   "source": [
    "act_by_column_dict = act_df.set_index('State').to_dict()"
   ]
  },
  {
   "cell_type": "markdown",
   "metadata": {
    "nbpresent": {
     "id": "60cf7802-dd2b-4803-ae6b-5b1151d0d7f6"
    }
   },
   "source": [
    "##### 8. Create one dictionary where each key is the column name, and each value is an iterable (a list or a Pandas Series) of all the values in that column."
   ]
  },
  {
   "cell_type": "code",
   "execution_count": 32,
   "metadata": {
    "nbpresent": {
     "id": "1d51151a-dd8f-4e73-8e14-882bf43f9ffd"
    }
   },
   "outputs": [],
   "source": [
    "sat_df_col = sat_df.to_dict"
   ]
  },
  {
   "cell_type": "code",
   "execution_count": 33,
   "metadata": {},
   "outputs": [],
   "source": [
    "sat_df_math_index = sat_df.set_index('Math').to_dict()"
   ]
  },
  {
   "cell_type": "markdown",
   "metadata": {
    "nbpresent": {
     "id": "e4aa250f-7c9a-4301-bc85-198af31c3b2a"
    }
   },
   "source": [
    "##### 9. Merge the dataframes on the state column."
   ]
  },
  {
   "cell_type": "code",
   "execution_count": 34,
   "metadata": {
    "nbpresent": {
     "id": "dfd771f2-474c-4a4d-9ed3-f726db3db8aa"
    }
   },
   "outputs": [],
   "source": [
    "sat_act_df = sat_df.merge(act_df, how='inner', on='State', suffixes=('_sat', '_act'))"
   ]
  },
  {
   "cell_type": "code",
   "execution_count": 35,
   "metadata": {
    "nbpresent": {
     "id": "327698c5-effa-4c57-bc4d-87642764e270"
    }
   },
   "outputs": [
    {
     "data": {
      "text/html": [
       "<div>\n",
       "<style scoped>\n",
       "    .dataframe tbody tr th:only-of-type {\n",
       "        vertical-align: middle;\n",
       "    }\n",
       "\n",
       "    .dataframe tbody tr th {\n",
       "        vertical-align: top;\n",
       "    }\n",
       "\n",
       "    .dataframe thead th {\n",
       "        text-align: right;\n",
       "    }\n",
       "</style>\n",
       "<table border=\"1\" class=\"dataframe\">\n",
       "  <thead>\n",
       "    <tr style=\"text-align: right;\">\n",
       "      <th></th>\n",
       "      <th>State</th>\n",
       "      <th>Participation_sat</th>\n",
       "      <th>Evidence-Based Reading and Writing</th>\n",
       "      <th>Math_sat</th>\n",
       "      <th>Total</th>\n",
       "      <th>Participation_act</th>\n",
       "      <th>English</th>\n",
       "      <th>Math_act</th>\n",
       "      <th>Reading</th>\n",
       "      <th>Science</th>\n",
       "      <th>Composite</th>\n",
       "    </tr>\n",
       "  </thead>\n",
       "  <tbody>\n",
       "    <tr>\n",
       "      <th>0</th>\n",
       "      <td>Alabama</td>\n",
       "      <td>0.05</td>\n",
       "      <td>593</td>\n",
       "      <td>572</td>\n",
       "      <td>1165</td>\n",
       "      <td>1.00</td>\n",
       "      <td>18.9</td>\n",
       "      <td>18.4</td>\n",
       "      <td>19.7</td>\n",
       "      <td>19.4</td>\n",
       "      <td>19.2</td>\n",
       "    </tr>\n",
       "    <tr>\n",
       "      <th>1</th>\n",
       "      <td>Alaska</td>\n",
       "      <td>0.38</td>\n",
       "      <td>547</td>\n",
       "      <td>533</td>\n",
       "      <td>1080</td>\n",
       "      <td>0.65</td>\n",
       "      <td>18.7</td>\n",
       "      <td>19.8</td>\n",
       "      <td>20.4</td>\n",
       "      <td>19.9</td>\n",
       "      <td>19.8</td>\n",
       "    </tr>\n",
       "    <tr>\n",
       "      <th>2</th>\n",
       "      <td>Arizona</td>\n",
       "      <td>0.30</td>\n",
       "      <td>563</td>\n",
       "      <td>553</td>\n",
       "      <td>1116</td>\n",
       "      <td>0.62</td>\n",
       "      <td>18.6</td>\n",
       "      <td>19.8</td>\n",
       "      <td>20.1</td>\n",
       "      <td>19.8</td>\n",
       "      <td>19.7</td>\n",
       "    </tr>\n",
       "    <tr>\n",
       "      <th>3</th>\n",
       "      <td>Arkansas</td>\n",
       "      <td>0.03</td>\n",
       "      <td>614</td>\n",
       "      <td>594</td>\n",
       "      <td>1208</td>\n",
       "      <td>1.00</td>\n",
       "      <td>18.9</td>\n",
       "      <td>19.0</td>\n",
       "      <td>19.7</td>\n",
       "      <td>19.5</td>\n",
       "      <td>19.4</td>\n",
       "    </tr>\n",
       "    <tr>\n",
       "      <th>4</th>\n",
       "      <td>California</td>\n",
       "      <td>0.53</td>\n",
       "      <td>531</td>\n",
       "      <td>524</td>\n",
       "      <td>1055</td>\n",
       "      <td>0.31</td>\n",
       "      <td>22.5</td>\n",
       "      <td>22.7</td>\n",
       "      <td>23.1</td>\n",
       "      <td>22.2</td>\n",
       "      <td>22.8</td>\n",
       "    </tr>\n",
       "  </tbody>\n",
       "</table>\n",
       "</div>"
      ],
      "text/plain": [
       "        State  Participation_sat  Evidence-Based Reading and Writing  \\\n",
       "0     Alabama               0.05                                 593   \n",
       "1      Alaska               0.38                                 547   \n",
       "2     Arizona               0.30                                 563   \n",
       "3    Arkansas               0.03                                 614   \n",
       "4  California               0.53                                 531   \n",
       "\n",
       "   Math_sat  Total  Participation_act  English  Math_act  Reading  Science  \\\n",
       "0       572   1165               1.00     18.9      18.4     19.7     19.4   \n",
       "1       533   1080               0.65     18.7      19.8     20.4     19.9   \n",
       "2       553   1116               0.62     18.6      19.8     20.1     19.8   \n",
       "3       594   1208               1.00     18.9      19.0     19.7     19.5   \n",
       "4       524   1055               0.31     22.5      22.7     23.1     22.2   \n",
       "\n",
       "   Composite  \n",
       "0       19.2  \n",
       "1       19.8  \n",
       "2       19.7  \n",
       "3       19.4  \n",
       "4       22.8  "
      ]
     },
     "execution_count": 35,
     "metadata": {},
     "output_type": "execute_result"
    }
   ],
   "source": [
    "sat_act_df.head()"
   ]
  },
  {
   "cell_type": "markdown",
   "metadata": {
    "nbpresent": {
     "id": "d0134980-dcf3-457b-9cb2-deb209d9c485"
    }
   },
   "source": [
    "##### 10. Change the names of the columns so you can distinguish between the SAT columns and the ACT columns."
   ]
  },
  {
   "cell_type": "code",
   "execution_count": 36,
   "metadata": {
    "nbpresent": {
     "id": "4c00e762-6068-4b77-8133-c382abcbc2df"
    }
   },
   "outputs": [],
   "source": [
    "sat_act_df.rename(columns={'Evidence-Based Reading and Writing':\n",
    "                           'Evidence-Based Reading and Writing_sat',\n",
    "                           'Total': 'Total_sat',\n",
    "                           'English': 'English_act',\n",
    "                           'Reading': 'Reading_act',\n",
    "                           'Science': 'Science_act',\n",
    "                           'Composite': 'Composite_act'}, inplace=True)"
   ]
  },
  {
   "cell_type": "code",
   "execution_count": 37,
   "metadata": {},
   "outputs": [
    {
     "data": {
      "text/html": [
       "<div>\n",
       "<style scoped>\n",
       "    .dataframe tbody tr th:only-of-type {\n",
       "        vertical-align: middle;\n",
       "    }\n",
       "\n",
       "    .dataframe tbody tr th {\n",
       "        vertical-align: top;\n",
       "    }\n",
       "\n",
       "    .dataframe thead th {\n",
       "        text-align: right;\n",
       "    }\n",
       "</style>\n",
       "<table border=\"1\" class=\"dataframe\">\n",
       "  <thead>\n",
       "    <tr style=\"text-align: right;\">\n",
       "      <th></th>\n",
       "      <th>State</th>\n",
       "      <th>Participation_sat</th>\n",
       "      <th>Evidence-Based Reading and Writing_sat</th>\n",
       "      <th>Math_sat</th>\n",
       "      <th>Total_sat</th>\n",
       "      <th>Participation_act</th>\n",
       "      <th>English_act</th>\n",
       "      <th>Math_act</th>\n",
       "      <th>Reading_act</th>\n",
       "      <th>Science_act</th>\n",
       "      <th>Composite_act</th>\n",
       "    </tr>\n",
       "  </thead>\n",
       "  <tbody>\n",
       "    <tr>\n",
       "      <th>0</th>\n",
       "      <td>Alabama</td>\n",
       "      <td>0.05</td>\n",
       "      <td>593</td>\n",
       "      <td>572</td>\n",
       "      <td>1165</td>\n",
       "      <td>1.00</td>\n",
       "      <td>18.9</td>\n",
       "      <td>18.4</td>\n",
       "      <td>19.7</td>\n",
       "      <td>19.4</td>\n",
       "      <td>19.2</td>\n",
       "    </tr>\n",
       "    <tr>\n",
       "      <th>1</th>\n",
       "      <td>Alaska</td>\n",
       "      <td>0.38</td>\n",
       "      <td>547</td>\n",
       "      <td>533</td>\n",
       "      <td>1080</td>\n",
       "      <td>0.65</td>\n",
       "      <td>18.7</td>\n",
       "      <td>19.8</td>\n",
       "      <td>20.4</td>\n",
       "      <td>19.9</td>\n",
       "      <td>19.8</td>\n",
       "    </tr>\n",
       "    <tr>\n",
       "      <th>2</th>\n",
       "      <td>Arizona</td>\n",
       "      <td>0.30</td>\n",
       "      <td>563</td>\n",
       "      <td>553</td>\n",
       "      <td>1116</td>\n",
       "      <td>0.62</td>\n",
       "      <td>18.6</td>\n",
       "      <td>19.8</td>\n",
       "      <td>20.1</td>\n",
       "      <td>19.8</td>\n",
       "      <td>19.7</td>\n",
       "    </tr>\n",
       "    <tr>\n",
       "      <th>3</th>\n",
       "      <td>Arkansas</td>\n",
       "      <td>0.03</td>\n",
       "      <td>614</td>\n",
       "      <td>594</td>\n",
       "      <td>1208</td>\n",
       "      <td>1.00</td>\n",
       "      <td>18.9</td>\n",
       "      <td>19.0</td>\n",
       "      <td>19.7</td>\n",
       "      <td>19.5</td>\n",
       "      <td>19.4</td>\n",
       "    </tr>\n",
       "    <tr>\n",
       "      <th>4</th>\n",
       "      <td>California</td>\n",
       "      <td>0.53</td>\n",
       "      <td>531</td>\n",
       "      <td>524</td>\n",
       "      <td>1055</td>\n",
       "      <td>0.31</td>\n",
       "      <td>22.5</td>\n",
       "      <td>22.7</td>\n",
       "      <td>23.1</td>\n",
       "      <td>22.2</td>\n",
       "      <td>22.8</td>\n",
       "    </tr>\n",
       "  </tbody>\n",
       "</table>\n",
       "</div>"
      ],
      "text/plain": [
       "        State  Participation_sat  Evidence-Based Reading and Writing_sat  \\\n",
       "0     Alabama               0.05                                     593   \n",
       "1      Alaska               0.38                                     547   \n",
       "2     Arizona               0.30                                     563   \n",
       "3    Arkansas               0.03                                     614   \n",
       "4  California               0.53                                     531   \n",
       "\n",
       "   Math_sat  Total_sat  Participation_act  English_act  Math_act  Reading_act  \\\n",
       "0       572       1165               1.00         18.9      18.4         19.7   \n",
       "1       533       1080               0.65         18.7      19.8         20.4   \n",
       "2       553       1116               0.62         18.6      19.8         20.1   \n",
       "3       594       1208               1.00         18.9      19.0         19.7   \n",
       "4       524       1055               0.31         22.5      22.7         23.1   \n",
       "\n",
       "   Science_act  Composite_act  \n",
       "0         19.4           19.2  \n",
       "1         19.9           19.8  \n",
       "2         19.8           19.7  \n",
       "3         19.5           19.4  \n",
       "4         22.2           22.8  "
      ]
     },
     "execution_count": 37,
     "metadata": {},
     "output_type": "execute_result"
    }
   ],
   "source": [
    "sat_act_df.head()"
   ]
  },
  {
   "cell_type": "markdown",
   "metadata": {
    "nbpresent": {
     "id": "f7967184-608b-4f5a-99bc-7c25a958bc47"
    }
   },
   "source": [
    "##### 11. Print the minimum and maximum of each numeric column in the data frame."
   ]
  },
  {
   "cell_type": "code",
   "execution_count": 38,
   "metadata": {
    "nbpresent": {
     "id": "d0154970-d012-449e-a322-1970bcd963cd"
    }
   },
   "outputs": [
    {
     "data": {
      "text/html": [
       "<div>\n",
       "<style scoped>\n",
       "    .dataframe tbody tr th:only-of-type {\n",
       "        vertical-align: middle;\n",
       "    }\n",
       "\n",
       "    .dataframe tbody tr th {\n",
       "        vertical-align: top;\n",
       "    }\n",
       "\n",
       "    .dataframe thead th {\n",
       "        text-align: right;\n",
       "    }\n",
       "</style>\n",
       "<table border=\"1\" class=\"dataframe\">\n",
       "  <thead>\n",
       "    <tr style=\"text-align: right;\">\n",
       "      <th></th>\n",
       "      <th>min</th>\n",
       "      <th>max</th>\n",
       "    </tr>\n",
       "  </thead>\n",
       "  <tbody>\n",
       "    <tr>\n",
       "      <th>Participation_sat</th>\n",
       "      <td>0.02</td>\n",
       "      <td>1.0</td>\n",
       "    </tr>\n",
       "    <tr>\n",
       "      <th>Evidence-Based Reading and Writing_sat</th>\n",
       "      <td>482.00</td>\n",
       "      <td>644.0</td>\n",
       "    </tr>\n",
       "    <tr>\n",
       "      <th>Math_sat</th>\n",
       "      <td>468.00</td>\n",
       "      <td>651.0</td>\n",
       "    </tr>\n",
       "    <tr>\n",
       "      <th>Total_sat</th>\n",
       "      <td>950.00</td>\n",
       "      <td>1295.0</td>\n",
       "    </tr>\n",
       "    <tr>\n",
       "      <th>Participation_act</th>\n",
       "      <td>0.08</td>\n",
       "      <td>1.0</td>\n",
       "    </tr>\n",
       "    <tr>\n",
       "      <th>English_act</th>\n",
       "      <td>16.30</td>\n",
       "      <td>25.5</td>\n",
       "    </tr>\n",
       "    <tr>\n",
       "      <th>Math_act</th>\n",
       "      <td>18.00</td>\n",
       "      <td>25.3</td>\n",
       "    </tr>\n",
       "    <tr>\n",
       "      <th>Reading_act</th>\n",
       "      <td>18.10</td>\n",
       "      <td>26.0</td>\n",
       "    </tr>\n",
       "    <tr>\n",
       "      <th>Science_act</th>\n",
       "      <td>18.20</td>\n",
       "      <td>24.9</td>\n",
       "    </tr>\n",
       "    <tr>\n",
       "      <th>Composite_act</th>\n",
       "      <td>17.80</td>\n",
       "      <td>25.5</td>\n",
       "    </tr>\n",
       "  </tbody>\n",
       "</table>\n",
       "</div>"
      ],
      "text/plain": [
       "                                           min     max\n",
       "Participation_sat                         0.02     1.0\n",
       "Evidence-Based Reading and Writing_sat  482.00   644.0\n",
       "Math_sat                                468.00   651.0\n",
       "Total_sat                               950.00  1295.0\n",
       "Participation_act                         0.08     1.0\n",
       "English_act                              16.30    25.5\n",
       "Math_act                                 18.00    25.3\n",
       "Reading_act                              18.10    26.0\n",
       "Science_act                              18.20    24.9\n",
       "Composite_act                            17.80    25.5"
      ]
     },
     "execution_count": 38,
     "metadata": {},
     "output_type": "execute_result"
    }
   ],
   "source": [
    "sat_act_df.describe().T[['min', 'max']]"
   ]
  },
  {
   "cell_type": "markdown",
   "metadata": {
    "nbpresent": {
     "id": "969dc3ef-2fc8-418c-8f15-bdf0cb8ba779"
    }
   },
   "source": [
    "##### 12. Write a function using only list comprehensions, no loops, to compute standard deviation. Using this function, calculate the standard deviation of each numeric column in both data sets. Add these to a list called `sd`.\n",
    "\n",
    "$$\\sigma = \\sqrt{\\frac{1}{n}\\sum_{i=1}^n(x_i - \\mu)^2}$$"
   ]
  },
  {
   "cell_type": "code",
   "execution_count": 39,
   "metadata": {
    "nbpresent": {
     "id": "59f5d90c-ab65-4fb1-bd1e-732633e993b9"
    }
   },
   "outputs": [],
   "source": [
    "columns = sat_act_df.columns[1:]"
   ]
  },
  {
   "cell_type": "code",
   "execution_count": 40,
   "metadata": {
    "nbpresent": {
     "id": "e35c1087-883e-4b25-866e-1ca5e10473cf"
    }
   },
   "outputs": [],
   "source": [
    "def std_dev_for_column(column):\n",
    "    mean=np.mean(column)\n",
    "    return (sum([(num - mean) ** 2 for num in column])/ len(sat_act_df)) ** .5"
   ]
  },
  {
   "cell_type": "code",
   "execution_count": 41,
   "metadata": {
    "nbpresent": {
     "id": "2173284d-9354-4392-aebb-67e49dec2e5f"
    }
   },
   "outputs": [
    {
     "data": {
      "text/plain": [
       "[0.3492907076664507,\n",
       " 45.21697020437866,\n",
       " 46.65713364485503,\n",
       " 91.58351056778743,\n",
       " 0.3182417575123181,\n",
       " 2.3304876369363363,\n",
       " 1.9624620273436781,\n",
       " 2.0469029314842646,\n",
       " 1.7361170088327353,\n",
       " 2.000786081581989]"
      ]
     },
     "execution_count": 41,
     "metadata": {},
     "output_type": "execute_result"
    }
   ],
   "source": [
    "sd = [std_dev_for_column(sat_act_df[column]) for column in columns]\n",
    "sd"
   ]
  },
  {
   "cell_type": "code",
   "execution_count": 42,
   "metadata": {
    "nbpresent": {
     "id": "f7dc69c2-418a-4d11-b9ad-1649cb3903a6"
    }
   },
   "outputs": [
    {
     "data": {
      "text/html": [
       "<div>\n",
       "<style scoped>\n",
       "    .dataframe tbody tr th:only-of-type {\n",
       "        vertical-align: middle;\n",
       "    }\n",
       "\n",
       "    .dataframe tbody tr th {\n",
       "        vertical-align: top;\n",
       "    }\n",
       "\n",
       "    .dataframe thead th {\n",
       "        text-align: right;\n",
       "    }\n",
       "</style>\n",
       "<table border=\"1\" class=\"dataframe\">\n",
       "  <thead>\n",
       "    <tr style=\"text-align: right;\">\n",
       "      <th></th>\n",
       "      <th>count</th>\n",
       "      <th>mean</th>\n",
       "      <th>std</th>\n",
       "      <th>min</th>\n",
       "      <th>25%</th>\n",
       "      <th>50%</th>\n",
       "      <th>75%</th>\n",
       "      <th>max</th>\n",
       "    </tr>\n",
       "  </thead>\n",
       "  <tbody>\n",
       "    <tr>\n",
       "      <th>Participation_sat</th>\n",
       "      <td>51.0</td>\n",
       "      <td>0.398039</td>\n",
       "      <td>0.352766</td>\n",
       "      <td>0.02</td>\n",
       "      <td>0.04</td>\n",
       "      <td>0.38</td>\n",
       "      <td>0.66</td>\n",
       "      <td>1.0</td>\n",
       "    </tr>\n",
       "    <tr>\n",
       "      <th>Evidence-Based Reading and Writing_sat</th>\n",
       "      <td>51.0</td>\n",
       "      <td>569.117647</td>\n",
       "      <td>45.666901</td>\n",
       "      <td>482.00</td>\n",
       "      <td>533.50</td>\n",
       "      <td>559.00</td>\n",
       "      <td>613.00</td>\n",
       "      <td>644.0</td>\n",
       "    </tr>\n",
       "    <tr>\n",
       "      <th>Math_sat</th>\n",
       "      <td>51.0</td>\n",
       "      <td>556.882353</td>\n",
       "      <td>47.121395</td>\n",
       "      <td>468.00</td>\n",
       "      <td>523.50</td>\n",
       "      <td>548.00</td>\n",
       "      <td>599.00</td>\n",
       "      <td>651.0</td>\n",
       "    </tr>\n",
       "    <tr>\n",
       "      <th>Total_sat</th>\n",
       "      <td>51.0</td>\n",
       "      <td>1126.098039</td>\n",
       "      <td>92.494812</td>\n",
       "      <td>950.00</td>\n",
       "      <td>1055.50</td>\n",
       "      <td>1107.00</td>\n",
       "      <td>1212.00</td>\n",
       "      <td>1295.0</td>\n",
       "    </tr>\n",
       "    <tr>\n",
       "      <th>Participation_act</th>\n",
       "      <td>51.0</td>\n",
       "      <td>0.652549</td>\n",
       "      <td>0.321408</td>\n",
       "      <td>0.08</td>\n",
       "      <td>0.31</td>\n",
       "      <td>0.69</td>\n",
       "      <td>1.00</td>\n",
       "      <td>1.0</td>\n",
       "    </tr>\n",
       "    <tr>\n",
       "      <th>English_act</th>\n",
       "      <td>51.0</td>\n",
       "      <td>20.931373</td>\n",
       "      <td>2.353677</td>\n",
       "      <td>16.30</td>\n",
       "      <td>19.00</td>\n",
       "      <td>20.70</td>\n",
       "      <td>23.30</td>\n",
       "      <td>25.5</td>\n",
       "    </tr>\n",
       "    <tr>\n",
       "      <th>Math_act</th>\n",
       "      <td>51.0</td>\n",
       "      <td>21.182353</td>\n",
       "      <td>1.981989</td>\n",
       "      <td>18.00</td>\n",
       "      <td>19.40</td>\n",
       "      <td>20.90</td>\n",
       "      <td>23.10</td>\n",
       "      <td>25.3</td>\n",
       "    </tr>\n",
       "    <tr>\n",
       "      <th>Reading_act</th>\n",
       "      <td>51.0</td>\n",
       "      <td>22.013725</td>\n",
       "      <td>2.067271</td>\n",
       "      <td>18.10</td>\n",
       "      <td>20.45</td>\n",
       "      <td>21.80</td>\n",
       "      <td>24.15</td>\n",
       "      <td>26.0</td>\n",
       "    </tr>\n",
       "    <tr>\n",
       "      <th>Science_act</th>\n",
       "      <td>51.0</td>\n",
       "      <td>21.462745</td>\n",
       "      <td>1.753392</td>\n",
       "      <td>18.20</td>\n",
       "      <td>19.95</td>\n",
       "      <td>21.30</td>\n",
       "      <td>23.20</td>\n",
       "      <td>24.9</td>\n",
       "    </tr>\n",
       "    <tr>\n",
       "      <th>Composite_act</th>\n",
       "      <td>51.0</td>\n",
       "      <td>21.519608</td>\n",
       "      <td>2.020695</td>\n",
       "      <td>17.80</td>\n",
       "      <td>19.80</td>\n",
       "      <td>21.40</td>\n",
       "      <td>23.60</td>\n",
       "      <td>25.5</td>\n",
       "    </tr>\n",
       "  </tbody>\n",
       "</table>\n",
       "</div>"
      ],
      "text/plain": [
       "                                        count         mean        std     min  \\\n",
       "Participation_sat                        51.0     0.398039   0.352766    0.02   \n",
       "Evidence-Based Reading and Writing_sat   51.0   569.117647  45.666901  482.00   \n",
       "Math_sat                                 51.0   556.882353  47.121395  468.00   \n",
       "Total_sat                                51.0  1126.098039  92.494812  950.00   \n",
       "Participation_act                        51.0     0.652549   0.321408    0.08   \n",
       "English_act                              51.0    20.931373   2.353677   16.30   \n",
       "Math_act                                 51.0    21.182353   1.981989   18.00   \n",
       "Reading_act                              51.0    22.013725   2.067271   18.10   \n",
       "Science_act                              51.0    21.462745   1.753392   18.20   \n",
       "Composite_act                            51.0    21.519608   2.020695   17.80   \n",
       "\n",
       "                                            25%      50%      75%     max  \n",
       "Participation_sat                          0.04     0.38     0.66     1.0  \n",
       "Evidence-Based Reading and Writing_sat   533.50   559.00   613.00   644.0  \n",
       "Math_sat                                 523.50   548.00   599.00   651.0  \n",
       "Total_sat                               1055.50  1107.00  1212.00  1295.0  \n",
       "Participation_act                          0.31     0.69     1.00     1.0  \n",
       "English_act                               19.00    20.70    23.30    25.5  \n",
       "Math_act                                  19.40    20.90    23.10    25.3  \n",
       "Reading_act                               20.45    21.80    24.15    26.0  \n",
       "Science_act                               19.95    21.30    23.20    24.9  \n",
       "Composite_act                             19.80    21.40    23.60    25.5  "
      ]
     },
     "execution_count": 42,
     "metadata": {},
     "output_type": "execute_result"
    }
   ],
   "source": [
    "sat_act_df.describe().T   "
   ]
  },
  {
   "cell_type": "markdown",
   "metadata": {},
   "source": [
    "The values we obtained differ from those given by python since python assumes that the standard deviations we want are of a sample, not the entire population. Since we are interested in the standard deviation of our entire population, we divided our summed variances by n, as opposed to n-1."
   ]
  },
  {
   "cell_type": "markdown",
   "metadata": {
    "nbpresent": {
     "id": "60187155-eb65-4309-ab4e-9e86728c426c"
    }
   },
   "source": [
    "## Step 2: Manipulate the dataframe"
   ]
  },
  {
   "cell_type": "markdown",
   "metadata": {
    "nbpresent": {
     "id": "730b3d60-3b0c-4be2-968a-86e6ae3c6695"
    }
   },
   "source": [
    "##### 13. Turn the list `sd` into a new observation in your dataset."
   ]
  },
  {
   "cell_type": "code",
   "execution_count": 43,
   "metadata": {
    "nbpresent": {
     "id": "44c3d636-710c-450f-8043-d9aeede79142"
    }
   },
   "outputs": [],
   "source": [
    "dict_of_sd = dict(zip(columns, sd))"
   ]
  },
  {
   "cell_type": "code",
   "execution_count": 44,
   "metadata": {
    "nbpresent": {
     "id": "6ae139d1-ec93-4457-90c1-5a0914ac1b4f"
    }
   },
   "outputs": [],
   "source": [
    "sat_act_with_sd_df = sat_act_df.append(dict_of_sd, ignore_index=True)"
   ]
  },
  {
   "cell_type": "code",
   "execution_count": 45,
   "metadata": {
    "nbpresent": {
     "id": "f5cdd4bd-29d2-46e2-85ed-225c619f8bfc"
    }
   },
   "outputs": [
    {
     "data": {
      "text/html": [
       "<div>\n",
       "<style scoped>\n",
       "    .dataframe tbody tr th:only-of-type {\n",
       "        vertical-align: middle;\n",
       "    }\n",
       "\n",
       "    .dataframe tbody tr th {\n",
       "        vertical-align: top;\n",
       "    }\n",
       "\n",
       "    .dataframe thead th {\n",
       "        text-align: right;\n",
       "    }\n",
       "</style>\n",
       "<table border=\"1\" class=\"dataframe\">\n",
       "  <thead>\n",
       "    <tr style=\"text-align: right;\">\n",
       "      <th></th>\n",
       "      <th>State</th>\n",
       "      <th>Participation_sat</th>\n",
       "      <th>Evidence-Based Reading and Writing_sat</th>\n",
       "      <th>Math_sat</th>\n",
       "      <th>Total_sat</th>\n",
       "      <th>Participation_act</th>\n",
       "      <th>English_act</th>\n",
       "      <th>Math_act</th>\n",
       "      <th>Reading_act</th>\n",
       "      <th>Science_act</th>\n",
       "      <th>Composite_act</th>\n",
       "    </tr>\n",
       "  </thead>\n",
       "  <tbody>\n",
       "    <tr>\n",
       "      <th>47</th>\n",
       "      <td>Washington</td>\n",
       "      <td>0.640000</td>\n",
       "      <td>541.00000</td>\n",
       "      <td>534.000000</td>\n",
       "      <td>1075.000000</td>\n",
       "      <td>0.290000</td>\n",
       "      <td>20.900000</td>\n",
       "      <td>21.900000</td>\n",
       "      <td>22.100000</td>\n",
       "      <td>22.000000</td>\n",
       "      <td>21.900000</td>\n",
       "    </tr>\n",
       "    <tr>\n",
       "      <th>48</th>\n",
       "      <td>West Virginia</td>\n",
       "      <td>0.140000</td>\n",
       "      <td>558.00000</td>\n",
       "      <td>528.000000</td>\n",
       "      <td>1086.000000</td>\n",
       "      <td>0.690000</td>\n",
       "      <td>20.000000</td>\n",
       "      <td>19.400000</td>\n",
       "      <td>21.200000</td>\n",
       "      <td>20.500000</td>\n",
       "      <td>20.400000</td>\n",
       "    </tr>\n",
       "    <tr>\n",
       "      <th>49</th>\n",
       "      <td>Wisconsin</td>\n",
       "      <td>0.030000</td>\n",
       "      <td>642.00000</td>\n",
       "      <td>649.000000</td>\n",
       "      <td>1291.000000</td>\n",
       "      <td>1.000000</td>\n",
       "      <td>19.700000</td>\n",
       "      <td>20.400000</td>\n",
       "      <td>20.600000</td>\n",
       "      <td>20.900000</td>\n",
       "      <td>20.500000</td>\n",
       "    </tr>\n",
       "    <tr>\n",
       "      <th>50</th>\n",
       "      <td>Wyoming</td>\n",
       "      <td>0.030000</td>\n",
       "      <td>626.00000</td>\n",
       "      <td>604.000000</td>\n",
       "      <td>1230.000000</td>\n",
       "      <td>1.000000</td>\n",
       "      <td>19.400000</td>\n",
       "      <td>19.800000</td>\n",
       "      <td>20.800000</td>\n",
       "      <td>20.600000</td>\n",
       "      <td>20.200000</td>\n",
       "    </tr>\n",
       "    <tr>\n",
       "      <th>51</th>\n",
       "      <td>Standard Deviation</td>\n",
       "      <td>0.349291</td>\n",
       "      <td>45.21697</td>\n",
       "      <td>46.657134</td>\n",
       "      <td>91.583511</td>\n",
       "      <td>0.318242</td>\n",
       "      <td>2.330488</td>\n",
       "      <td>1.962462</td>\n",
       "      <td>2.046903</td>\n",
       "      <td>1.736117</td>\n",
       "      <td>2.000786</td>\n",
       "    </tr>\n",
       "  </tbody>\n",
       "</table>\n",
       "</div>"
      ],
      "text/plain": [
       "                 State  Participation_sat  \\\n",
       "47          Washington           0.640000   \n",
       "48       West Virginia           0.140000   \n",
       "49           Wisconsin           0.030000   \n",
       "50             Wyoming           0.030000   \n",
       "51  Standard Deviation           0.349291   \n",
       "\n",
       "    Evidence-Based Reading and Writing_sat    Math_sat    Total_sat  \\\n",
       "47                               541.00000  534.000000  1075.000000   \n",
       "48                               558.00000  528.000000  1086.000000   \n",
       "49                               642.00000  649.000000  1291.000000   \n",
       "50                               626.00000  604.000000  1230.000000   \n",
       "51                                45.21697   46.657134    91.583511   \n",
       "\n",
       "    Participation_act  English_act   Math_act  Reading_act  Science_act  \\\n",
       "47           0.290000    20.900000  21.900000    22.100000    22.000000   \n",
       "48           0.690000    20.000000  19.400000    21.200000    20.500000   \n",
       "49           1.000000    19.700000  20.400000    20.600000    20.900000   \n",
       "50           1.000000    19.400000  19.800000    20.800000    20.600000   \n",
       "51           0.318242     2.330488   1.962462     2.046903     1.736117   \n",
       "\n",
       "    Composite_act  \n",
       "47      21.900000  \n",
       "48      20.400000  \n",
       "49      20.500000  \n",
       "50      20.200000  \n",
       "51       2.000786  "
      ]
     },
     "execution_count": 45,
     "metadata": {},
     "output_type": "execute_result"
    }
   ],
   "source": [
    "sat_act_with_sd_df.fillna(value=\"Standard Deviation\", inplace=True)\n",
    "sat_act_with_sd_df.tail()"
   ]
  },
  {
   "cell_type": "markdown",
   "metadata": {
    "nbpresent": {
     "id": "be1f8d62-4f23-45d7-86a4-9fbaee98967f"
    }
   },
   "source": [
    "##### 14. Sort the dataframe by the values in a numeric column (e.g. observations descending by SAT participation rate)"
   ]
  },
  {
   "cell_type": "code",
   "execution_count": 46,
   "metadata": {
    "nbpresent": {
     "id": "e0dcad75-ca4f-46ea-bf32-da983ac413d2"
    }
   },
   "outputs": [
    {
     "data": {
      "text/html": [
       "<div>\n",
       "<style scoped>\n",
       "    .dataframe tbody tr th:only-of-type {\n",
       "        vertical-align: middle;\n",
       "    }\n",
       "\n",
       "    .dataframe tbody tr th {\n",
       "        vertical-align: top;\n",
       "    }\n",
       "\n",
       "    .dataframe thead th {\n",
       "        text-align: right;\n",
       "    }\n",
       "</style>\n",
       "<table border=\"1\" class=\"dataframe\">\n",
       "  <thead>\n",
       "    <tr style=\"text-align: right;\">\n",
       "      <th></th>\n",
       "      <th>State</th>\n",
       "      <th>Participation_sat</th>\n",
       "      <th>Evidence-Based Reading and Writing_sat</th>\n",
       "      <th>Math_sat</th>\n",
       "      <th>Total_sat</th>\n",
       "      <th>Participation_act</th>\n",
       "      <th>English_act</th>\n",
       "      <th>Math_act</th>\n",
       "      <th>Reading_act</th>\n",
       "      <th>Science_act</th>\n",
       "      <th>Composite_act</th>\n",
       "    </tr>\n",
       "  </thead>\n",
       "  <tbody>\n",
       "    <tr>\n",
       "      <th>22</th>\n",
       "      <td>Michigan</td>\n",
       "      <td>1.00</td>\n",
       "      <td>509.0</td>\n",
       "      <td>495.0</td>\n",
       "      <td>1005.0</td>\n",
       "      <td>0.29</td>\n",
       "      <td>24.1</td>\n",
       "      <td>23.7</td>\n",
       "      <td>24.5</td>\n",
       "      <td>23.8</td>\n",
       "      <td>24.1</td>\n",
       "    </tr>\n",
       "    <tr>\n",
       "      <th>6</th>\n",
       "      <td>Connecticut</td>\n",
       "      <td>1.00</td>\n",
       "      <td>530.0</td>\n",
       "      <td>512.0</td>\n",
       "      <td>1041.0</td>\n",
       "      <td>0.31</td>\n",
       "      <td>25.5</td>\n",
       "      <td>24.6</td>\n",
       "      <td>25.6</td>\n",
       "      <td>24.6</td>\n",
       "      <td>25.2</td>\n",
       "    </tr>\n",
       "    <tr>\n",
       "      <th>7</th>\n",
       "      <td>Delaware</td>\n",
       "      <td>1.00</td>\n",
       "      <td>503.0</td>\n",
       "      <td>492.0</td>\n",
       "      <td>996.0</td>\n",
       "      <td>0.18</td>\n",
       "      <td>24.1</td>\n",
       "      <td>23.4</td>\n",
       "      <td>24.8</td>\n",
       "      <td>23.6</td>\n",
       "      <td>24.1</td>\n",
       "    </tr>\n",
       "    <tr>\n",
       "      <th>8</th>\n",
       "      <td>District of Columbia</td>\n",
       "      <td>1.00</td>\n",
       "      <td>482.0</td>\n",
       "      <td>468.0</td>\n",
       "      <td>950.0</td>\n",
       "      <td>0.32</td>\n",
       "      <td>24.4</td>\n",
       "      <td>23.5</td>\n",
       "      <td>24.9</td>\n",
       "      <td>23.5</td>\n",
       "      <td>24.2</td>\n",
       "    </tr>\n",
       "    <tr>\n",
       "      <th>29</th>\n",
       "      <td>New Hampshire</td>\n",
       "      <td>0.96</td>\n",
       "      <td>532.0</td>\n",
       "      <td>520.0</td>\n",
       "      <td>1052.0</td>\n",
       "      <td>0.18</td>\n",
       "      <td>25.4</td>\n",
       "      <td>25.1</td>\n",
       "      <td>26.0</td>\n",
       "      <td>24.9</td>\n",
       "      <td>25.5</td>\n",
       "    </tr>\n",
       "    <tr>\n",
       "      <th>19</th>\n",
       "      <td>Maine</td>\n",
       "      <td>0.95</td>\n",
       "      <td>513.0</td>\n",
       "      <td>499.0</td>\n",
       "      <td>1012.0</td>\n",
       "      <td>0.08</td>\n",
       "      <td>24.2</td>\n",
       "      <td>24.0</td>\n",
       "      <td>24.8</td>\n",
       "      <td>23.7</td>\n",
       "      <td>24.3</td>\n",
       "    </tr>\n",
       "    <tr>\n",
       "      <th>12</th>\n",
       "      <td>Idaho</td>\n",
       "      <td>0.93</td>\n",
       "      <td>513.0</td>\n",
       "      <td>493.0</td>\n",
       "      <td>1005.0</td>\n",
       "      <td>0.38</td>\n",
       "      <td>21.9</td>\n",
       "      <td>21.8</td>\n",
       "      <td>23.0</td>\n",
       "      <td>22.1</td>\n",
       "      <td>22.3</td>\n",
       "    </tr>\n",
       "    <tr>\n",
       "      <th>9</th>\n",
       "      <td>Florida</td>\n",
       "      <td>0.83</td>\n",
       "      <td>520.0</td>\n",
       "      <td>497.0</td>\n",
       "      <td>1017.0</td>\n",
       "      <td>0.73</td>\n",
       "      <td>19.0</td>\n",
       "      <td>19.4</td>\n",
       "      <td>21.0</td>\n",
       "      <td>19.4</td>\n",
       "      <td>19.8</td>\n",
       "    </tr>\n",
       "    <tr>\n",
       "      <th>21</th>\n",
       "      <td>Massachusetts</td>\n",
       "      <td>0.76</td>\n",
       "      <td>555.0</td>\n",
       "      <td>551.0</td>\n",
       "      <td>1107.0</td>\n",
       "      <td>0.29</td>\n",
       "      <td>25.4</td>\n",
       "      <td>25.3</td>\n",
       "      <td>25.9</td>\n",
       "      <td>24.7</td>\n",
       "      <td>25.4</td>\n",
       "    </tr>\n",
       "    <tr>\n",
       "      <th>39</th>\n",
       "      <td>Rhode Island</td>\n",
       "      <td>0.71</td>\n",
       "      <td>539.0</td>\n",
       "      <td>524.0</td>\n",
       "      <td>1062.0</td>\n",
       "      <td>0.21</td>\n",
       "      <td>24.0</td>\n",
       "      <td>23.3</td>\n",
       "      <td>24.7</td>\n",
       "      <td>23.4</td>\n",
       "      <td>24.0</td>\n",
       "    </tr>\n",
       "  </tbody>\n",
       "</table>\n",
       "</div>"
      ],
      "text/plain": [
       "                   State  Participation_sat  \\\n",
       "22              Michigan               1.00   \n",
       "6            Connecticut               1.00   \n",
       "7               Delaware               1.00   \n",
       "8   District of Columbia               1.00   \n",
       "29         New Hampshire               0.96   \n",
       "19                 Maine               0.95   \n",
       "12                 Idaho               0.93   \n",
       "9                Florida               0.83   \n",
       "21         Massachusetts               0.76   \n",
       "39          Rhode Island               0.71   \n",
       "\n",
       "    Evidence-Based Reading and Writing_sat  Math_sat  Total_sat  \\\n",
       "22                                   509.0     495.0     1005.0   \n",
       "6                                    530.0     512.0     1041.0   \n",
       "7                                    503.0     492.0      996.0   \n",
       "8                                    482.0     468.0      950.0   \n",
       "29                                   532.0     520.0     1052.0   \n",
       "19                                   513.0     499.0     1012.0   \n",
       "12                                   513.0     493.0     1005.0   \n",
       "9                                    520.0     497.0     1017.0   \n",
       "21                                   555.0     551.0     1107.0   \n",
       "39                                   539.0     524.0     1062.0   \n",
       "\n",
       "    Participation_act  English_act  Math_act  Reading_act  Science_act  \\\n",
       "22               0.29         24.1      23.7         24.5         23.8   \n",
       "6                0.31         25.5      24.6         25.6         24.6   \n",
       "7                0.18         24.1      23.4         24.8         23.6   \n",
       "8                0.32         24.4      23.5         24.9         23.5   \n",
       "29               0.18         25.4      25.1         26.0         24.9   \n",
       "19               0.08         24.2      24.0         24.8         23.7   \n",
       "12               0.38         21.9      21.8         23.0         22.1   \n",
       "9                0.73         19.0      19.4         21.0         19.4   \n",
       "21               0.29         25.4      25.3         25.9         24.7   \n",
       "39               0.21         24.0      23.3         24.7         23.4   \n",
       "\n",
       "    Composite_act  \n",
       "22           24.1  \n",
       "6            25.2  \n",
       "7            24.1  \n",
       "8            24.2  \n",
       "29           25.5  \n",
       "19           24.3  \n",
       "12           22.3  \n",
       "9            19.8  \n",
       "21           25.4  \n",
       "39           24.0  "
      ]
     },
     "execution_count": 46,
     "metadata": {},
     "output_type": "execute_result"
    }
   ],
   "source": [
    "sat_act_with_sd_df.sort_values('Participation_sat', ascending=False).head(10)"
   ]
  },
  {
   "cell_type": "markdown",
   "metadata": {
    "nbpresent": {
     "id": "78bb5740-ea90-4628-a81c-1005254367c7"
    }
   },
   "source": [
    "##### 15. Use a boolean filter to display only observations with a score above a certain threshold (e.g. only states with a participation rate above 50%)"
   ]
  },
  {
   "cell_type": "code",
   "execution_count": 47,
   "metadata": {
    "nbpresent": {
     "id": "e4901aff-3166-4316-9718-55961caa15f4"
    }
   },
   "outputs": [
    {
     "data": {
      "text/plain": [
       "Index(['State', 'Participation_sat', 'Evidence-Based Reading and Writing_sat',\n",
       "       'Math_sat', 'Total_sat', 'Participation_act', 'English_act', 'Math_act',\n",
       "       'Reading_act', 'Science_act', 'Composite_act'],\n",
       "      dtype='object')"
      ]
     },
     "execution_count": 47,
     "metadata": {},
     "output_type": "execute_result"
    }
   ],
   "source": [
    "sat_act_with_sd_df.columns"
   ]
  },
  {
   "cell_type": "code",
   "execution_count": 48,
   "metadata": {
    "nbpresent": {
     "id": "9e57eede-c507-409e-b367-0ce13701be31"
    }
   },
   "outputs": [
    {
     "data": {
      "text/html": [
       "<div>\n",
       "<style scoped>\n",
       "    .dataframe tbody tr th:only-of-type {\n",
       "        vertical-align: middle;\n",
       "    }\n",
       "\n",
       "    .dataframe tbody tr th {\n",
       "        vertical-align: top;\n",
       "    }\n",
       "\n",
       "    .dataframe thead th {\n",
       "        text-align: right;\n",
       "    }\n",
       "</style>\n",
       "<table border=\"1\" class=\"dataframe\">\n",
       "  <thead>\n",
       "    <tr style=\"text-align: right;\">\n",
       "      <th></th>\n",
       "      <th>State</th>\n",
       "      <th>Participation_sat</th>\n",
       "      <th>Evidence-Based Reading and Writing_sat</th>\n",
       "      <th>Math_sat</th>\n",
       "      <th>Total_sat</th>\n",
       "      <th>Participation_act</th>\n",
       "      <th>English_act</th>\n",
       "      <th>Math_act</th>\n",
       "      <th>Reading_act</th>\n",
       "      <th>Science_act</th>\n",
       "      <th>Composite_act</th>\n",
       "    </tr>\n",
       "  </thead>\n",
       "  <tbody>\n",
       "    <tr>\n",
       "      <th>4</th>\n",
       "      <td>California</td>\n",
       "      <td>0.53</td>\n",
       "      <td>531.0</td>\n",
       "      <td>524.0</td>\n",
       "      <td>1055.0</td>\n",
       "      <td>0.31</td>\n",
       "      <td>22.5</td>\n",
       "      <td>22.7</td>\n",
       "      <td>23.1</td>\n",
       "      <td>22.2</td>\n",
       "      <td>22.8</td>\n",
       "    </tr>\n",
       "    <tr>\n",
       "      <th>6</th>\n",
       "      <td>Connecticut</td>\n",
       "      <td>1.00</td>\n",
       "      <td>530.0</td>\n",
       "      <td>512.0</td>\n",
       "      <td>1041.0</td>\n",
       "      <td>0.31</td>\n",
       "      <td>25.5</td>\n",
       "      <td>24.6</td>\n",
       "      <td>25.6</td>\n",
       "      <td>24.6</td>\n",
       "      <td>25.2</td>\n",
       "    </tr>\n",
       "    <tr>\n",
       "      <th>7</th>\n",
       "      <td>Delaware</td>\n",
       "      <td>1.00</td>\n",
       "      <td>503.0</td>\n",
       "      <td>492.0</td>\n",
       "      <td>996.0</td>\n",
       "      <td>0.18</td>\n",
       "      <td>24.1</td>\n",
       "      <td>23.4</td>\n",
       "      <td>24.8</td>\n",
       "      <td>23.6</td>\n",
       "      <td>24.1</td>\n",
       "    </tr>\n",
       "    <tr>\n",
       "      <th>8</th>\n",
       "      <td>District of Columbia</td>\n",
       "      <td>1.00</td>\n",
       "      <td>482.0</td>\n",
       "      <td>468.0</td>\n",
       "      <td>950.0</td>\n",
       "      <td>0.32</td>\n",
       "      <td>24.4</td>\n",
       "      <td>23.5</td>\n",
       "      <td>24.9</td>\n",
       "      <td>23.5</td>\n",
       "      <td>24.2</td>\n",
       "    </tr>\n",
       "    <tr>\n",
       "      <th>9</th>\n",
       "      <td>Florida</td>\n",
       "      <td>0.83</td>\n",
       "      <td>520.0</td>\n",
       "      <td>497.0</td>\n",
       "      <td>1017.0</td>\n",
       "      <td>0.73</td>\n",
       "      <td>19.0</td>\n",
       "      <td>19.4</td>\n",
       "      <td>21.0</td>\n",
       "      <td>19.4</td>\n",
       "      <td>19.8</td>\n",
       "    </tr>\n",
       "  </tbody>\n",
       "</table>\n",
       "</div>"
      ],
      "text/plain": [
       "                  State  Participation_sat  \\\n",
       "4            California               0.53   \n",
       "6           Connecticut               1.00   \n",
       "7              Delaware               1.00   \n",
       "8  District of Columbia               1.00   \n",
       "9               Florida               0.83   \n",
       "\n",
       "   Evidence-Based Reading and Writing_sat  Math_sat  Total_sat  \\\n",
       "4                                   531.0     524.0     1055.0   \n",
       "6                                   530.0     512.0     1041.0   \n",
       "7                                   503.0     492.0      996.0   \n",
       "8                                   482.0     468.0      950.0   \n",
       "9                                   520.0     497.0     1017.0   \n",
       "\n",
       "   Participation_act  English_act  Math_act  Reading_act  Science_act  \\\n",
       "4               0.31         22.5      22.7         23.1         22.2   \n",
       "6               0.31         25.5      24.6         25.6         24.6   \n",
       "7               0.18         24.1      23.4         24.8         23.6   \n",
       "8               0.32         24.4      23.5         24.9         23.5   \n",
       "9               0.73         19.0      19.4         21.0         19.4   \n",
       "\n",
       "   Composite_act  \n",
       "4           22.8  \n",
       "6           25.2  \n",
       "7           24.1  \n",
       "8           24.2  \n",
       "9           19.8  "
      ]
     },
     "execution_count": 48,
     "metadata": {},
     "output_type": "execute_result"
    }
   ],
   "source": [
    "sat_act_with_sd_df.loc[sat_act_with_sd_df['Participation_sat'] > .5,:].head()"
   ]
  },
  {
   "cell_type": "code",
   "execution_count": 49,
   "metadata": {
    "nbpresent": {
     "id": "33e72c6b-1c30-41f0-9031-61d8cf1ffbde"
    }
   },
   "outputs": [
    {
     "data": {
      "text/plain": [
       "22"
      ]
     },
     "execution_count": 49,
     "metadata": {},
     "output_type": "execute_result"
    }
   ],
   "source": [
    "len(sat_act_with_sd_df.loc[sat_act_with_sd_df['Participation_sat'] > .5,:])"
   ]
  },
  {
   "cell_type": "markdown",
   "metadata": {
    "nbpresent": {
     "id": "7e2c26c6-5b40-4f23-b51b-35de8ad8acee"
    }
   },
   "source": [
    "## Step 3: Visualize the data"
   ]
  },
  {
   "cell_type": "markdown",
   "metadata": {
    "collapsed": true,
    "nbpresent": {
     "id": "1d238e30-0868-4024-a831-85073fea0446"
    }
   },
   "source": [
    "##### 16. Using MatPlotLib and PyPlot, plot the distribution of the Rate columns for both SAT and ACT using histograms. (You should have two histograms. You might find [this link](https://matplotlib.org/users/pyplot_tutorial.html#working-with-multiple-figures-and-axes) helpful in organizing one plot above the other.) "
   ]
  },
  {
   "cell_type": "code",
   "execution_count": 50,
   "metadata": {},
   "outputs": [
    {
     "data": {
      "image/png": "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\n",
      "text/plain": [
       "<matplotlib.figure.Figure at 0x108e4c400>"
      ]
     },
     "metadata": {},
     "output_type": "display_data"
    }
   ],
   "source": [
    "fig = plt.figure(figsize=(12,8))\n",
    "plt.subplot(2,1,1)\n",
    "plt.bar(sat_act_df['State'], sat_act_df['Participation_sat'],\n",
    "        color = 'b')\n",
    "plt.xticks(rotation=-60, ha='left')\n",
    "plt.xlabel('State\\n', fontsize=20)\n",
    "plt.ylabel('Participation rate', fontsize=20)\n",
    "plt.legend(['SAT'])\n",
    "plt.title('SAT Participation Rates\\n', fontsize=24)\n",
    "\n",
    "plt.subplot(2,1,2)\n",
    "plt.bar(sat_act_df['State'], sat_act_df['Participation_act'], color = 'c')\n",
    "plt.xticks(rotation=-60, ha='left')\n",
    "plt.xlabel('State', fontsize=20)\n",
    "plt.ylabel('Participation rate', fontsize=20)\n",
    "plt.legend(['ACT'])\n",
    "plt.title('ACT Participation Rates\\n', fontsize=24)\n",
    "\n",
    "plt.tight_layout();"
   ]
  },
  {
   "cell_type": "markdown",
   "metadata": {},
   "source": [
    "The histograms of the above data may seem to be distributed in a haphazard manner, but closer examination reveals that students from states that have high SAT participation rates tend to have low ACT participation rates and vice versa (note particularly Maine, Marlyand, Massachusetts, and Michigan compared to Oregon, Pennsylvania, and Rhode Island or Vermont, Virginia, and Washington). These trends are more easily visualized on the graph below:"
   ]
  },
  {
   "cell_type": "code",
   "execution_count": 51,
   "metadata": {},
   "outputs": [],
   "source": [
    "sat_act_sorted_df = sat_act_df.sort_values(by=['Participation_sat'])\n"
   ]
  },
  {
   "cell_type": "code",
   "execution_count": 52,
   "metadata": {},
   "outputs": [
    {
     "data": {
      "image/png": "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\n",
      "text/plain": [
       "<matplotlib.figure.Figure at 0x10e9b9e80>"
      ]
     },
     "metadata": {},
     "output_type": "display_data"
    }
   ],
   "source": [
    "sns.set(style=\"whitegrid\")\n",
    "\n",
    "f, ax = plt.subplots(figsize=(6, 10))\n",
    "\n",
    "sns.set_color_codes(\"muted\")\n",
    "sns.barplot(x=\"Participation_act\", y=\"State\", data=sat_act_sorted_df,\n",
    "            label=\"ACT Participation\", color=\"b\")\n",
    "\n",
    "sns.set_color_codes(\"muted\")\n",
    "sns.barplot(x=\"Participation_sat\", y=\"State\", data=sat_act_sorted_df,\n",
    "            label=\"SAT Participation\", color=\"c\")\n",
    "\n",
    "ax.legend(ncol=1, loc=\"lower right\", frameon=True)\n",
    "ax.set(xlim=(0, 1), ylabel=\"\",\n",
    "       xlabel=\"Participation\")\n",
    "plt.title('SAT Participation Rates (with Overlapping ACT Rates)\\n', fontsize=20);\n",
    "\n",
    "sns.despine(left=True, bottom=True)"
   ]
  },
  {
   "cell_type": "markdown",
   "metadata": {},
   "source": [
    "Although there are a substantial number of States where few students take the SAT, students in these States are still able to apply to college if they so desire; where student participation on the SAT is low, participation on the ACT is relatively high. Fully a third of States have less than 10% of their high school graduates take the SAT, these states more than make up for the lack of participation on the SAT with very high participation rates on the ACT, sometimes even as high as 100%."
   ]
  },
  {
   "cell_type": "markdown",
   "metadata": {
    "nbpresent": {
     "id": "6e5d24bf-2e8d-4940-8862-8580f3c2334a"
    }
   },
   "source": [
    "##### 17. Plot the Math(s) distributions from both data sets."
   ]
  },
  {
   "cell_type": "code",
   "execution_count": 53,
   "metadata": {},
   "outputs": [
    {
     "data": {
      "image/png": "iVBORw0KGgoAAAANSUhEUgAAAjsAAAErCAYAAAA46EJdAAAABHNCSVQICAgIfAhkiAAAAAlwSFlzAAALEgAACxIB0t1+/AAAADl0RVh0U29mdHdhcmUAbWF0cGxvdGxpYiB2ZXJzaW9uIDIuMS4yLCBodHRwOi8vbWF0cGxvdGxpYi5vcmcvNQv5yAAAIABJREFUeJzt3WlgTHf7PvBrsostKBISiootRaX4eSTI0loqCbGlIoJYuqCWhiBC0gSxtNTSqqVoYw1pKI0mJUqURrRULdUUEUtstWQzycz3/yJ/88iTxUzMkjm5Pq+SMzPn3N9zZu5cOdvIhBACRERERBJlYugCiIiIiHSJYYeIiIgkjWGHiIiIJI1hh4iIiCSNYYeIiIgkjWGHiIiIJI1hR0O///47AgIC4OXlhf79+2Ps2LG4fPlysecUFBTAxcUFY8eOLTY9MjISPj4+8PHxgZOTE3r37q36PT8/v9hzV65ciVatWmH37t3Fpufm5uKNN97AhAkTdDPA52RmZqJVq1YYMWJEicdCQkLQqlUrPHjwoNx5nD17FmFhYQCAkydPon///motW531bEgrV65ERETES81jz5498PX1hbe3N9555x3MmTMHT548AQBcv34dkyZNeuE81H0eGZ+y+ohCocDXX38NX19f+Pj4oF+/fliyZAnkcjkeP36s6ilvvfUW2rdvr/o9Ojq6xDLc3d3RsWNH5OTkFJu+Z88etGrVCgkJCTodI6CdXrdq1SokJSUBKOpNGzZsUGvZ69atg4+PD7y9vdG/f39ER0dDLpdrPggdcXd3xx9//FHh12dnZyM0NBReXl7w9vbGgAEDsGvXLtXju3btQkxMzAvno+7zKjMzQxdgTORyOSZMmICNGzeiXbt2AID4+HiMGzcOP/30E0xNTQEAiYmJaN26Nc6dO4f09HS0aNECABAaGqqal7u7O5YuXYrXX3+9zOU1atQI8fHxGDRokGrajz/+CGtra10Mr1SWlpa4cuUKbty4gcaNGwMoakKnT59W6/V///03srKyNFqmuuvZmJ09exarV6/G7t27YWNjA4VCgfDwcMyfPx/Lli3DzZs3ceXKlRfOR93nkfEpq4/Mnz8fjx49wubNm1GzZk3k5ubi448/xpw5c7BkyRLEx8cDKPrn4pNPPlH9XpY6deogMTERAwYMUE377rvv8Morr+hucP/jZXvdyZMn8dprr2m0zB9++AFJSUnYsWMHrKys8PTpU0yePBmrVq3CtGnTNJpXZbVs2TJYW1tj7969kMlkyMrKwrBhw2BnZwcXFxekpaWhZcuWL5yPus+rzBh2NJCXl4cnT54gNzdXNc3b2xs1atSAQqFQ/RHetm0b+vXrhyZNmmDz5s0V3gPg6uqKpKQk3L59G7a2tgCAuLg4eHt7459//gFQFAyWLl2K1NRUKBQKtG3bFqGhoahRowYOHz6MtWvXQi6X48GDBxgwYACmTJmCkydP4rPPPoODgwMuX76MwsJChIeHw9nZuUQNpqam6Nu3L/bt24f33nsPQFET8vDwwMaNGwEASqUSCxYswJkzZ5CTkwMhBCIjI9GoUSN8/vnnePLkCWbNmoUBAwYgNzcXU6dOxT///IOnT58iMjISb775psbrOTY2Fl9//TVMTExQp04dREdHw87ODjt27MA333wDExMTvPLKK5g7dy6aNWuGkJAQPHz4ENevX0evXr3w0Ucflbnetm7diu3bt8Pc3ByWlpaIiIgotZGmp6fD398fjx49Qps2bTBv3jxcunQJ06dPx6FDh2BiYoK8vDy4u7tj//79qFu3ruq1d+/ehRBCtUfP1NQUH330ES5fvgyFQoHQ0FBkZWUhKCgIGzZswJdffomffvoJ+fn5yMvLw8yZM+Hu7l7ieadPn8bSpUuRl5cHExMTTJw4EW5ubhV6/5FhldZHMjMzsW/fPhw7dgw1atQAAFhbWyM8PFztf0D+l7e3N/bu3asKOzdu3EBubi6aN2+uek56ejqioqLw8OFDKBQKBAQEYPDgwWV+9p2dnRESEoIaNWrg0qVLuH37Nlq1aoXo6GhUr169RA3q9LorV64gIiICOTk5uHv3Llq3bo3ly5cjNjYW586dw+LFi1U9+LfffoOfnx/u3buHli1bqv7oP+/u3btQKBTIz8+HlZUVLC0tMXfuXNXe6pycHERGRuL06dMwNTWFp6cnpk6diuzsbISHh+PixYuQyWRwdXXFtGnTYGZmBicnJ3h4eODixYtYunQprK2tS11vOTk5mDVrFq5duwYTExO0a9cOERERMDEpebBl69atuHjxIuRyOUaPHo3BgwcjNDQU9erVw9SpUwEU/TP4448/YvXq1SXGWK9ePRQUFMDCwgINGzbEypUrYWNjg8TERBw6dAgpKSmwsrJC7969ERYWhvv37+Pu3bto3Lgxli9fjtOnTxd7nr+/P7744gv8+OOPUCqVaNy4MebNm4eGDRtW6P2nN4I0snHjRtG+fXvh7u4uPv74Y7Fr1y6Rm5urevzy5cuiXbt24sGDB+LMmTOiffv24sGDByXm4+bmJs6ePVvmcj7//HMRHh4uIiIixNq1a4UQQty4cUMMGjRI7N69W4wfP14IIcTKlSvFokWLhFKpFEIIsWzZMjFv3jyhVCrFiBEjxJUrV4QQQty+fVu0adNG3L9/X5w4cUK0adNGnD9/XgghxIYNG4S/v3+JGq5fvy46duwo/vjjD9GnTx/V9MDAQHHp0iXh6Ogo7t+/L06fPi0mTZokFAqFEEKItWvXigkTJgghRLFany33999/F0II8fXXX4uRI0dqvJ4vXLggunbtKm7evKmaz9y5c8Xx48eFp6enuH//vmrZffv2FUqlUsycOVMEBgaq5l/WeissLBTt2rUTWVlZQggh4uLixPbt20vdPr169RL3798XSqVSTJ8+XSxevFgIIYS3t7dITk4WQgixa9cuMXXq1BKvl8vlYtq0aaJNmzZiwIABIjw8XBw+fFhVz4kTJ8Q777wjhBAiMzNTBAQEiLy8PCGEEN9//73o379/iec9fPhQvP322+L69etCiKJt3qNHD3Hjxo1S1zFVXmX1kYSEBDFo0CC15vH8e6Msbm5uIi0tTXTr1k31nl+9erX45ptvxIgRI8QPP/wgCgoKRL9+/cS5c+eEEEI8fvxY9O3bV/z222/lfvZnzpwphg0bJp4+fSrkcrkYMGCAiI2NLVGDur1u0aJF4rvvvhNCFH1++vfvLxISEoQQQlXrs+UOHjxY5ObmisLCQjFw4EARFxdXYrmPHz8Wo0ePFu3atRNDhw4VCxcuFL/++qvq8QULFoipU6eKwsJC8fTpU+Hv7y9OnDghZsyYIT755BOhVCrF06dPxZgxY1R1Ozo6qpZV3nqLi4sTY8aMEUIIUVhYKObMmSOuXr1a6vaZN2+eEKLo89ytWzfx119/ifPnz4vu3buLgoICIYQQw4cPFz///HOJ11+4cEG8/fbb4o033hBjxowRq1atEv/884/q8ZkzZ4r169cLIYTYtGmTahxKpVKMHTtWbNiwocTz4uLixJQpU1TL3r59uxg7dmyJZVc23LOjodGjR2PIkCFITU1Famoq1q1bh3Xr1iE2NhY1a9bEtm3b4Obmhjp16qBOnTqwt7fHzp07K3yOjY+PD+bMmYPx48cjPj6+2K5mAEhOTsaTJ09w/PhxAEXH+evVqweZTIYvv/wSycnJ+P7775Geng4hBPLy8gAU7TZu06YNAKBt27aIi4srswYnJyeYmpri3LlzqFevHnJycuDo6Kh6/I033kDt2rWxfft2XL9+HSdPniz1vzcAcHBwQIcOHQAArVu3LnGc/pny1vMvv/wCFxcX2NnZAQBGjRoFAFi8eDH69eun2oPi6+uLqKgoZGZmAkCxPVdlrTdTU1P06dMHfn5+6NWrF1xcXNCzZ89Sa3zrrbdUyxo0aBAWL14MAPD398fOnTvRs2dP7NixAzNmzCjxWnNzcyxbtgwzZszAyZMnkZqaipkzZ6Jbt25Yvnx5sec2btwYixcvxr59+3Dt2jXVf9H/6/fff8fdu3fx4YcfqqbJZDJcunQJjRo1KnUMVDmV1UeaN28OpVKp1WWZm5ujd+/e+P777zFmzBj88MMP+Oabb3Dw4EEAwNWrV5GRkYHZs2erXpOfn4/z589j+PDh5X72XV1dYWFhAQBwdHTEo0ePyqzjRb0uODgYKSkpWLduHa5evYo7d+4U2/v7PE9PT1SrVg0A0LJly1LPLaxZsyY2btyI69ev48SJE/j1118xfvx4DB8+HMHBwTh+/DhmzZoFU1NTmJqa4ttvvwUATJkyBdu2bYNMJoOFhQX8/PywefNmjB8/HgBUe6rLW2+urq747LPPEBAQgP/85z8IDAxE06ZNSx2Ln58fAKBhw4bo3r07fvnlF4wcORL29vZITk5Gs2bNcOfOHbi4uJR4bevWrZGQkIA///wTqampSElJwZdffokVK1bA3d292HMDAwNx6tQpfP3117h69SouX76s6tXPO3z4MP744w/VIUelUqn6u1KZMexoIC0tDb/99hvGjh0LNzc3uLm5Ydq0aejfvz9SUlLQo0cPxMfHw8LCQvVGys7OxrfffosxY8bA3Nxc42W2b98eCoUCFy5cwIEDB/DNN9/g0KFDqseVSiVmz56t+oOck5ODp0+fIjc3FwMHDoSnpyfefPNNDBo0CElJSRD//6vQrKysVPOQyWSq6WV5tqu7bt268PHxKfZYcnIyoqKiMHr0aHh4eKB58+bYu3dvqfN5fh2UtdwXrWdTU1PIZDLV8/Pz83Hjxo1S/wgIIVBYWAgAxXZjl7XeAGDp0qX466+/cPz4cXz11VeIj4/HihUrSsz7+XOHlEolzMyKPk5eXl749NNPceLECeTm5qJz584lXhsbG4s6derAw8MD3t7e8Pb2xvvvvw93d/cSjfnPP//EBx98gFGjRqF79+7o3LkzwsPDS8xToVCgRYsWxU5AzMrKKnb4jCq/3NzcMvvI9u3b8c8//yA7O1t1GAso2s5z587F559/Xuyzra4BAwZg3rx56NixI5o1awYbGxvVYwqFAjVr1ix27s+9e/dQs2bNF372NekzL+p106ZNg0KhQN++fdGrVy/cunWrzPk9+yyWt9x169bB2dkZnTp1goODA4YMGYJTp05h3LhxCA4OhpmZWbE+c+vWLVhZWUGpVBabrlQqVT0G+G+fKW+9WVpaIjExESdPnsSJEycwevRoRERElAggAIod2nq+z/j7+2P37t149dVXMXTo0GI1AUBhYSEiIiIwbdo0ODk5wcnJCaNHj8aaNWuwY8eOEstasmQJzp49i0GDBqFr164oLCwsdb0plUqMHTsWw4cPB1B0KkV5Ibay4NVYGqhbty6++OILnDp1SjXt7t27yM7OhqOjI/bt2wcbGxscPXoUhw4dwqFDh5CUlITc3NyXuqrBx8cHCxYsKNGEAMDFxQUxMTGQy+VQKpWYO3cuPv30U1y7dg3Z2dmYMmUK3N3dcfLkSdVzKlpDQkICDhw4UOKKqpSUFLi5uWH48OFwcnJCUlISFAoFgKJA8HwjUMeL1nPXrl3xyy+/4M6dOwCA7du3Y8mSJXB1dcWBAwdUYeHZyb+l/cdU1np78OABevbsCRsbG4waNQpTpkwp82qIQ4cO4dGjR1AoFNi5cyd69OgBAKhWrRq8vb0xe/Zs1X9l/8vExARLly7F7du3VdMuX76MRo0aoXbt2jA1NUVBQQEAIDU1VdWounTpgp9++qnY+n32vI4dO+LatWtITU0FAFy4cAG9e/fW+ARxMqzy+sjp06fh5eWF2bNnIzs7G0BREJo/fz5sbGwqFHQAoEOHDsjPz8dnn32GgQMHFnusWbNmsLKyUv3RvnXrFvr3749z586V+9mviPJ63bFjx/Dhhx+iX79+AIAzZ868VJ/Jz8/HsmXL8PDhQ9W0v/76C23btgUAdOvWDXFxcVAqlZDL5Zg8eTJSU1Ph4uKCb7/9FkIIyOVy7Ny5E//5z39KzL+89bZ161bMmjULLi4uCA4OhouLC86fP19qnc/2ut+8eRO//PILunXrBgDo3bs3Lly4gIMHDxY7sfsZMzMzXLlyBWvWrFH1iMLCQqSnp6vG+Px6O3bsGAIDAzFgwADUq1cPx48fL3X9uri4IDY2VvX+W7FiRal7rysb7tnRQLNmzbB69Wp89tlnuH37NiwtLVGzZk0sWLAAzZs3x7Rp0zB69Ohi//HXqlULAQEB2LRpE7y8vCq0XG9vbyxfvhxr1qwp8dgHH3yA6OhoDBw4EAqFAm3atEFISAisra3Rq1cv9O3bFxYWFnB0dMRrr72Ga9euqXYra6Jhw4Zo0aIFatasWaIJ+fn5Yfr06fDy8kJhYSG6d++uOnmtY8eOWL16NSZOnIiAgAC1lvWi9QwU7dJ+dklu/fr1sWDBAjRs2BCjRo1CYGAglEol6tati7Vr15Z60l9Z661GjRp4//33MWrUKFhZWcHU1BSRkZGl1tmiRQtMmDABjx8/hrOzs2o3NlB0CG3nzp0ldsU//3heXh7GjRsHuVwOmUyGV199FRs2bICpqSlee+01WFpaYvDgwfjyyy/x448/om/fvlAqlXBzc8OjR4+QnZ1d7Hm7du3C559/jsWLF+Pp06cQQmDx4sWwt7dXa71T5bBt27Zy+8iOHTuwZs0a+Pn5wdTUFHK5HJ6eni99CwIfHx/ExMTA1dW12HQLCwusWbMGUVFRWL9+PQoLC/HRRx/B2dkZNjY2ZX72K6K8Xjd16lR8+OGHsLa2Ro0aNdC5c2dkZGQAKLq69dNPP1X9UVfHBx98AJlMBj8/P8hkMiiVSjg5OakOI0+cOBFRUVHw8fGBQqFAv3798Pbbb6Nz586IjIyEl5cXCgoK4Orqqrp4Q9311qZNG/z666/o168fqlWrBjs7uzL749OnTzFw4EAUFBQgNDQUzZo1U82/d+/euHfvXpl7b1esWIElS5agd+/eqFatGpRKJd566y3Voe4ePXpg0aJFAIAPP/wQixcvxooVK2Bubo5OnTqp1u/zzxs3bhyysrJUe5Ps7OxUj1VmMvGi4xdEpBEhBNatW4cbN26UeriJiOhl5ebmYsSIEQgLC0PHjh0NXU6lx8NYRFrm4eGBQ4cO4aOPPjJ0KUQkQUePHkWvXr3g6urKoKMm7tkhIiIiSeOeHSIiIpI0hh0iIiKSNIYdIiIikjSGHSIiIpI0hh0iIiKSNIYdIiIikjSGHSIiIpI0hh0iIiKSNIYdIiIikjSGHSIiIpI0hh0iIiKSNIYdIiIikjSGHSIiIpI0hh0iIiKSNDNDF6CutLQ0Q5dARC/B2dnZ0CWUiz2GyPiV1WeMJuwAlb9ZvkhaWprRj0ETVWm8VWmsgObjNZYgoe6YuL2ljeM1TuX1GR7GIiIiIklj2CEiIiJJY9ghIiIiSWPYISIiIklj2CEiIiJJY9ghIiIiSWPYISKjJoTAzJkzsWHDBgCAQqFAVFQU+vTpg7feegvbtm0zcIVEZGgMO0RktNLT0xEYGIiDBw+qpm3fvh1Xr17F999/j9jYWGzevBlnz541YJVEZGgMO0RktGJiYjBkyBD06dNHNS0pKQm+vr4wMzND7dq18c4772Dv3r0GrJKIDM2o7qBMRPS8sLAwAEBKSopq2q1bt2BnZ6f63dbWFpcuXdJ7bURUeTDsSJTX9HidzHffMh+dzJdIW4QQkMlkxX43MVFvJ7YmX2uhi6/AmL81U+vzBID5w+1feh7G8pUf2sLxSgvDDhFJip2dHe7cuaP6/c6dO7C1tVXrtQb/biwdhZ2XrVUq352kLo7XOPG7sYioyvDw8MDu3btRWFiIx48fY//+/fD09DR0WURkQNyzQ0SS8u677yIjIwM+Pj4oKCjAsGHD0KVLF0OXRUQGxLBDREZv0aJFqp/NzMwwZ84cA1ZDRJUND2MRERGRpDHsEBERkaQx7BAREZGkMewQERGRpDHsEBERkaQx7BAREZGkMewQERGRpDHsEBERkaQx7BAREZGk6fQOykIIhISEwNHREUFBQcjPz0d4eDj++OMPCCHQvn17zJs3D1ZWVrosg4iIiKowne3ZSU9PR2BgIA4ePKia9sUXX0ChUGDv3r3Yu3cvnj59irVr1+qqBCIiIiLd7dmJiYnBkCFD0KhRI9W0zp07o3HjxjAxKcpYbdq0wd9//62rEoiIiIh0t2cnLCwMXl5exaa5uLigWbNmAIAbN25g8+bN6NOnj65KICIiIjLMt56fO3cOEydOxIgRI+Dm5qb269LS0nRYlX4Y+xg0rd/Yx6uJqjRWoOqNl4iMl97Dzv79+xEeHo65c+eW2PPzIs7OzjqqSj/S0tL0N4atmTqZrSb163W8BlaVxgpoPl4GIyIyJL2GnUOHDiEyMhIbNmzA66+/rs9FExERURWl17ATHR0NIQRCQ0NV0zp16oR58+bpswwiIiKqQnQedhYtWqT6+fnL0ImIiIj0gXdQJiIiIklj2CEiIiJJY9ghIiIiSWPYISIiIklj2CEiIiJJY9ghIiIiSWPYISIiIklj2CEiIiJJY9ghIiIiSWPYISIiIklj2CEiIiJJY9ghIiIiSWPYISIiIklj2CEiIiJJY9ghIiIiSWPYISIiIklj2CEiIiJJY9ghIiIiSWPYISIiIklj2CEiIiJJY9ghIklKTEyEl5cXfHx8MHLkSGRkZBi6JCIyEIYdIpKc/Px8BAcHY9WqVYiPj4e7uzsiIyMNXRYRGQjDDhFJjkKhgBACT548AQDk5OTA0tLSwFURkaGYGboAIiJtq169OsLDw+Hn5wcbGxsolUps27btha9LS0tTexmaPNfQtFGrMY1XGzheaWHYISLJuXTpElavXo0DBw6gSZMm2LJlCyZNmoT4+HjIZLIyX+fs7KzW/NPS0tR+rka2Zmp/nlB/XGXR2XgrKY7XOJUX2HgYi4gk59ixY+jUqROaNGkCAPD398fly5fx77//GrgyIjIEhh0ikpy2bdsiNTUV9+7dAwAkJSXB3t4edevWNXBlRGQIOj+MJYRASEgIHB0dERQUBIVCgUWLFuHo0aNQKBQYM2YM3n33XV2XQURVSLdu3RAUFISAgACYm5ujdu3aWLNmjaHLIiID0WnYSU9PR3h4OM6ePQtHR0cAwPbt23H16lV8//33yMnJwbBhw9CuXTu0b99el6UQURXj7+8Pf39/Q5dBRJWATg9jxcTEYMiQIejTp49qWlJSEnx9fWFmZobatWvjnXfewd69e3VZBhEREVVhOt2zExYWBgBISUlRTbt16xbs7OxUv9va2uLSpUtqzU8Kl8YZ+xg0rd/Yx6uJqjRWoOqNl4iMl94vPRdCFLv0UwgBExP1djAZ+6Vxer28rxJcwiqVyxnVUZXGCmg+XgYjIjIkvV+NZWdnhzt37qh+v3PnDmxtbfVdBhEREVUReg87Hh4e2L17NwoLC/H48WPs378fnp6e+i6DiIiIqgi9H8Z69913kZGRAR8fHxQUFGDYsGHo0qWLvssgIiKiKkIvYWfRokX/XaCZGebMmaOPxRIRERHxDspEREQkbQw7REREJGkMO0RERCRpDDtEREQkaQw7REREJGkMO0RERCRpDDtEREQkaQw7REREJGkMO0RERCRpDDtEREQkaXr/biwiIpIGr+nxhi5BbfuW+Ri6BI3oat0a23rQFu7ZISIiIklj2CEiIiJJY9ghIiIiSWPYISIiIklj2CEiIiJJY9ghIiIiSWPYISIiIklj2CEiIiJJY9ghIiIiSWPYISIiIklj2CEiIiJJY9ghIiIiSWPYISIiIklj2CEiIiJJY9ghIiIiSTNI2ElMTISXlxd8fHwwcuRIZGRkGKIMIiIiqgLUCjvjxo3DDz/8ALlc/tILzM/PR3BwMFatWoX4+Hi4u7sjMjLypedLRMZNm32GiOh5aoedo0ePok+fPggPD8fZs2crvECFQgEhBJ48eQIAyMnJgaWlZYXnR0TSoM0+Q0T0PDN1ntSlSxd06dIF+fn5SEhIwOTJk1GjRg0MHjwYw4cPh4WFhdoLrF69OsLDw+Hn5wcbGxsolUps27atwgMgImnQZp8hInqeWmEHAE6ePIn4+HikpKSgR48e6NevH44fP473338fGzZsUHuBly5dwurVq3HgwAE0adIEW7ZswaRJkxAfHw+ZTFbua9PS0tReTmVl7GPQtH5jH68mqtJYAd2MV1t9BijqNZGRkXjy5AlMTEwQEREBJycnrddMRJWfWmHHzc0N9vb2GDRoEMLCwmBlZQUA6Nq1KwYNGqTRAo8dO4ZOnTqhSZMmAAB/f38sXLgQ//77L+rWrVvua52dnTVaVmWTlpamvzFszdTJbDWpX6/jNbCqNFZA8/GqE4y02Wfy8vIQFBSEqKgo9OzZE0lJSfj444+RkJCg0XyISBrUCjubN29G9erVUa9ePeTn5+PatWto2rQpTExMEBcXp9EC27Zti5iYGNy7dw+vvPIKkpKSYG9v/8KgQ0TSps0+k5KSAgcHB/Ts2RMA4OHhAXt7e12UTURGQK2wk5ycjLi4OMTFxeH+/ft47733MGrUKAwbNkzjBXbr1g1BQUEICAiAubk5ateujTVr1mg8HyKSFm32mStXrqB+/fqYPXs2Ll68iFq1aiE4OPiFr9Pk0JwxHbbURq3GNN7S8BB8kbLGJdXxPqNW2Nm5cyd27twJAGjcuDH27NmDoUOHVqgJAUWHrvz9/Sv0WiKSJm32mcLCQhw5cgRbtmxBhw4dkJSUhPHjx+Pw4cPlnuis7qE5nR22rASHn0tT5nh1VK8uGN0heD2+FyrFeLWgvMCm1qXnBQUFxRqEubn5y1dFRPQcbfaZBg0aoEWLFujQoQMAwNPTEwqFAtevX3/pOonI+Ki1Z8fT0xOBgYHo27cvZDIZDh48CHd3d13XRkRViDb7TI8ePRAdHY1z587ByckJqampkMlkPG+HqIpSK+wEBwcjISEBqampMDMzw8iRI+Hp6anr2oioCtFmn6lfvz5Wr16N8PBw5OXlwcLCAitXruQNTImqKLXvs9OiRQu88sorEEIAAFJTU9G5c2edFUZLAMQlAAAT6UlEQVREVY82+0znzp2xa9cubZZHREZKrbATHh6Ow4cPw8HBQTVNJpNhy5YtOiuMiKoW9hki0hW1wk5KSgoSEhJUN/kiItI29hki0hW1rsZycHBQ7VYmItIF9hki0hW19uzUrl0b77zzDt54441il4YuXLhQZ4URUdXCPkNEuqJW2HF1dYWrq6uuayGiKox9hoh0Ra2wM3DgQGRmZuLvv/+Gi4sLbt26VewkQiKil8U+Q0S6otY5OwcOHMD777+PqKgoPHr0CH5+foiPj9d1bURUhbDPEJGuqBV21q1bh23btqm+kTguLg5fffWVrmsjoiqEfYaIdEWtsGNiYoIaNWqofm/QoAFMTNR6KRGRWthniEhX1Dpnp2XLlvj2229RWFiICxcuYOvWrWjdurWuayOiKoR9hoh0Ra1/m8LCwpCVlQVLS0vMnj0bNWrUwLx583RdGxFVIewzRKQrau3Zsba2xvTp0zF9+nRd10NEVRT7DBHpilphp3Xr1pDJZMWm1a9fHz///LNOiiKiqod9hoh0Ra2wc/HiRdXPBQUFSEpKwu+//66zooio6mGfISJd0fhSB3Nzc/Tt2xcnTpzQRT1EROwzRKRVau3Z+e6771Q/CyFw+fJlmJmp9VIiIrWwzxCRrqjVSU6ePFns9zp16mD58uU6KYiIqib2GSLSFbXCDr91mIh0jX1Gd7yma+FrN7Zmvvw8iAxErbDj7u5e4ioJoGhXs0wmw08//aT1woioamGfISJdUSvseHl5wdzcHEOHDoWZmRn27duHP/74A1OnTtV1fURURbDPEJGuqBV2jh49ij179qh+DwwMhK+vLxo3bqyzwoioamGfISJdUfvS8+PHj6t+Pnz4MKpXr66Tgoio6mKfISJdUGvPTkREBGbOnIl79+4BAJo3b47o6GidFkZEVQv7DBHpilphx8nJCfv378eDBw9gZWUFa2vrl1ropUuXEBkZiSdPnsDExAQRERFwcnJ6qXkSkXHTdp8hInpGrcNYN27cwOjRo+Hn54ecnByMHDkSmZkVuwwxLy8PQUFBGDt2LL777jt88MEH+Pjjjys0LyKSDm32GSKi56kVdsLCwhAUFARra2u88sor6N+/P2bOnFmhBaakpMDBwQE9e/YEAHh4ePDGYUSk1T5DRPQ8tQ5j/fvvv3BxccHSpUshk8kwdOhQxMTEVGiBV65cQf369TF79mxcvHgRtWrVQnBwsFqvTUtLq9AyK5P/HcN8I7tRl8Y3J1NzfPOH21egmspFCu9PTWh7vNrsM0REz1Mr7FhZWeH27duqG36dOnUKFhYWFVpgYWEhjhw5gi1btqBDhw5ISkrC+PHjcfjw4RfO09nZuULLrCzS0tJKjsHIwo6uSHLbSpim41UnGGmzzxARPU+tsDNr1ixMmDABGRkZ8PHxwaNHj7BixYoKLbBBgwZo0aIFOnToAADw9PREaGgorl+/jhYtWlRonkRk/LTZZ4iInqdW2Ll//z5iY2Nx9epVKBQKNG/evML/cfXo0QPR0dE4d+4cnJyckJqaCplMBnt74z+MQUQVp80+Q0T0PLXCzpIlS9CrVy+0bNnypRdYv359rF69GuHh4cjLy4OFhQVWrlwJS0vLl543ERkvbfYZIqLnqRV2HBwcMGvWLHTo0AFWVlaq6QMGDKjQQjt37oxdu3ZV6LVEJE3a7jNERM+UG3aysrLQsGFD1KlTBwBw5syZYo+zCRHRy2KfISJdKzfsvPfee4iLi8PChQuxceNGjBkzRl91EVEVwT5DRLpW7k0FhRCqn/ft26fzYoio6mGfISJdKzfsPLvfBVC8IRERaQv7DBHpmlpfFwEUb0hERLrAPkNEulDuOTuXL1+Gh4cHgKKTCJ/9LISATCbDTz/9pPsKiUjSdNlnkpKSEBwcjN9++00rtRKRcSo37Bw8eFBfdRBRFaWrPnP16lVER0frZN5EZFzKDTuNGzfWVx1EVEXpos/k5eUhODgYISEh+Pjjj7U+fyIyLmrdVJCIyJiEhYVh2LBhaNWqlUavU/eb3OdvzeSX+BoZdbetps+fb2Tvg7LGpen6MTYMO0QkKTExMTAzM8PgwYORmanZHyK1v8ndyP7AkQbbFkV/+KX6XihtXBqNtxIrL7Ax7BCRpMTFxSE/Px8+Pj4oKChQ/fzVV1+hYcOGhi6PiAyAYYeIJCU2Nlb1c2ZmJry8vBAfH2/AiojI0Bh21OQ1XUvN0sh2eVLpSn0/VNJtu2+Zj6FLICIyKLVvKkhEZGzs7e15jx0iYtghIiIiaWPYISIiIklj2CEiIiJJY9ghIiIiSWPYISIiIklj2CEiIiJJY9ghIiIiSWPYISIiIklj2CEiIiJJY9ghIiIiSWPYISIiIklj2CEiIiJJM2jYSUpKwhtvvGHIEoiIiEjiDBZ2rl69iujoaEMtnoiIiKoIg4SdvLw8BAcHIyQkxBCLJyIioirEIGEnLCwMw4YNQ6tWrQyxeCIiIqpCzPS9wJiYGJiZmWHw4MHIzMzU6LVpaWk6qooMTVfbdv5Wzd5jUqSrdcvPIxEZC72Hnbi4OOTn58PHxwcFBQWqn7/66is0bNiw3Nc6OzvrqcpS8I+mTuls23K76WTdpqWlaTRfBiMiafOaHq+T+e5b5qOV+eg97MTGxqp+zszMhJeXF+LjdbOSiIiIiHifHSIiIpI0g4Yde3t7/Pbbb4YsgYiIiCSOe3aIiIhI0hh2iIiISNIYdoiIiEjSGHaIiIhI0hh2iIiISNIYdoiIiEjSGHaIiIhI0hh2iIiISNIYdoiIiEjSGHaIiIhI0hh2iIiISNIYdoiIiEjSzAxdABEAeE2PN3QJkqWrdbvP2Vkn8yUi0jbu2SEiIiJJY9ghIiIiSWPYISIiIknjOTtEJEnx8fHYsGEDZDIZqlWrhjlz5uD11183dFlEZAAMO0QkOf/88w+WLFmCPXv2oEGDBjhy5AgmTZqE5ORkQ5dGRAbAw1hEJDkWFhaIjIxEgwYNAABOTk64d+8e5HK5gSsjIkPgnh0ikhx7e3vY29sDAIQQWLhwIdzd3WFhYWHgyojIEBh2iEiycnNzERISgtu3b2P9+vUvfH5aWpoeqiJD0Ph+U1szdVOIgZW5HirpeLX1mWTYISJJunnzJt577z20aNECW7ZsgZWV1Qtf46zujRIr6R8GIqlR+zOJ8oMRww4RSU52djYCAgIwcOBATJw40dDlEJGBMewQkeTExMTg5s2bSExMRGJiomr6pk2bUKdOHQNWRkSGwLBDRJIzYcIETJgwwdBlEFElwUvPiYiISNIYdoiIiEjSDHIYi7dxJyIiIn3Re9jhbdyJiIhIn/R+GIu3cSciIiJ90vuenZe5jTvvbkpUefDzSETGwmCXnmt6G3dAszspah3vmEpUjLbubEpEpGsGuRrr5s2b8PPzg6mpKbZs2YJatWoZogwiIiKqAvS+Z4e3cSciIiJ90nvY4W3ciYiISJ/0HnZ4G3ciIiLSJ95BmYiIiCSNYYeIiIgkjWGHiIiIJI1hh4iIiCSNYYeIiIgkjWGHiIiIJI1hh4iIiCSNYYeIiIgkjWGHiIiIJI1hh4iIiCSNYYeIiIgkjWGHiIiIJE3vXwSqD17T4w1dAhEREVUS3LNDREREksawQ0RERJLGsENERESSxrBDREREksawQ0RERJLGsENERESSxrBDREREksawQ0RERJLGsENERESSxrBDREREksawQ0RERJLGsENERESSxrBDREREkmaQsJOcnAwvLy/07t0bkydPRnZ2tiHKICIJY58homf0HnYePHiAWbNmYeXKlTh48CAcHBywdOlSfZdBRBLGPkNEz9N72Dl27Bhef/11vPrqqwCAd999F/v27YMQQt+lEJFEsc8Q0fP0HnZu374NW1tb1e+2trbIzs5GTk6OvkshIolinyGi55npe4FKpRIymazEdBOTF+eutLQ0tZYxf7i9xnURkWbU/TwaQkX7DHsMUeWirT6j97BjZ2eHM2fOqH7PyspC7dq1YW1tXe7rnJ2ddV0aEUlERfoMewyRdOn9MJaLiwvOnDmDq1evAgC2b98ODw8PfZdBRBLGPkNEz5MJA5yxd+TIESxbtgwFBQVo0qQJoqOjYWNjo+8yiEjC2GeI6BmDhB0iIiIifeEdlImIiEjSGHaIiIhI0vR+NZZULVq0CAkJCahduzYAoFmzZli+fDnWrl2LuLg4KBQKeHt7Y+LEiZDJZHjw4AFmzJiBmzdvwsTEBBEREejUqZOBR6G+ssbr6+uL/Px8mJubAwC8vLwwduxY5OXlITQ0FOfPn4dSqURwcDA8PT0NOQSNXLp0CZGRkXjy5Ilqezk5OUl2+5Y1Xqlu3xcRQiAkJASOjo4ICgqCQqFAREQEUlNTAQA9e/bEjBkzSr3c3djEx8djw4YNkMlkqFatGubMmYPXX3+9zPe6sSttvO3atcPSpUtx5MgRmJiYoGnTpoiIiEDdunUNXe5LK2v7PhMVFYWMjAysXbvWgFXqgCCtGDp0qEhLSys2LTk5Wfj4+IicnByRn58v/P39xf79+4UQQkyePFl88cUXQgghzp8/L1xcXERubq7e666o0sabk5MjnJ2dhVwuL/H86OhoERoaKoQQ4saNG8LFxUXcunVLL7W+rNzcXNG9e3eRnJwshBAiMTFR9O7dW7Lbt6zxSnX7vsjff/8tAgICRIcOHcT69euFEELs3r1bBAQEiMLCQiGXy4Wvr684cOCAgSt9eenp6aJ79+4iKytLCFHUw3r27Fnue92YlTXenTt3ipEjR4qnT58KIYre38HBwYYsVSvKGu8z+/fvF127dhXjx483UIW6w8NYWiCXy3H+/HmsX78eXl5emDRpEm7evInExET0798f1tbWsLS0hK+vL/bu3YvCwkIkJydj6NChAIA2bdrg1VdfxdGjRw08EvWUNd6zZ8/C2toaY8eOhZeXFxYsWID8/HwAQFJSEoYMGQIAaNSoEbp3744ffvjBkMNQW0pKChwcHNCzZ08AgIeHB5YvXy7Z7VvWeKW6fV8kJiYGQ4YMQZ8+fVTTFAoF8vLyIJfLIZfLUVBQAEtLSwNWqR0WFhaIjIxEgwYNAABOTk64d+8eEhISSn2vG7uyxtu0aVPMmDEDFhYWquk3b940ZKlaUdZ45XI50tPTsX79enz44YcGrlI3GHa0ICsrC//3f/+HKVOmYO/evejQoQM++OAD3Lp1C3Z2dqrn2draIisrC//++y+USmWxXaINGzbE7du3DVG+xsoab3Z2Nrp27YoVK1YgNjYWt27dwrJlywCgxLowpvFeuXIF9evXx+zZs+Hr64vRo0dDoVBIdvuWNd6cnBxJbt8XCQsLg5eXV7Fpvr6+qFWrFnr06AEXFxc0bdoU7u7uBqpQe+zt7dGrVy8ARYfuFi5cCHd3d9y5c6fU97qxK2u8Xbp0Qbt27QAAjx49wpo1a4qFXWNV1ngLCgoQHByMRYsWoXr16oYtUkcYdrTAwcEB69atg6OjI2QyGYKCgpCRkVHilvVCCJiYmJR6K3shBExNTfVdeoWUNd5WrVphyZIlsLGxgaWlJSZMmICkpCQAReP73zGr8xUhlUFhYSGOHDmCYcOGYc+ePRgxYgTGjx8PuVwuye1b1nhdXV0luX0rYtWqVahbty5SUlLw888/4+HDh9i4caOhy9Ka3NxcfPTRR8jIyEBkZGSJ7fvsvS4V/zveZzIyMjBixAh06tQJ/v7+BqxQu/53vHPmzEFAQAAcHR0NXZrOSOfdakAXL17Ed999V2yaEAKNGjXCnTt3VNPu3LkDW1tb1KtXD0IIPHz4sNhjDRs21FvNL6Os8aalpalO2Hw2zcys6Bx4Ozu7UteFMWjQoAFatGiBDh06AAA8PT2hUChgYmIiye1b1nh37Nghye1bEYmJiRg0aBAsLCxQs2ZNDBw4ECdPnjR0WVpx8+ZN+Pn5wdTUFFu2bEGtWrUkvX1LGy8AnDhxAsOGDcOAAQMQEREhiZOxgZLjzc3NxalTp7Bp0yb4+Pjg888/x6lTpzBu3DhDl6pVDDtaYGJigqioKFy/fh0AsHXrVrRq1QoeHh7Yu3cvcnNzIZfLsWfPHnh6esLMzAy9evXCzp07ARSFh/T0dHTt2tWQw1BbWePNzc1FdHQ08vPzoVAosGnTJvTr1w9A0XkfO3bsAFD0jdRHjx6Fm5ubwcagiR49eiAzMxPnzp0DAKSmpkImkyEwMFCS27es8Zqamkpy+1ZE27ZtVeckFRQU4NChQ6pwaMyys7MREBCAt99+G5999hmsrKwAoMxeZuzKGu+ff/6JiRMnIjo6GkFBQQauUntKG6+trS2OHTuG+Ph4xMfHY/LkyXjzzTexbt06Q5erVbyDspbEx8dj3bp1UCgUsLW1RVRUFBo1aoQvv/wS+/btQ0FBATw8PFSXp967dw+hoaHIzMyETCbDzJkz4eLiYuhhqK208dra2mLJkiVITk6GQqFA165dMXfuXFhYWCAnJwfz58/H+fPnoVAo8P7778PHx8fQw1BbamoqFi9ejLy8PFhYWGD27Nl48803Jbt9Sxtvp06dJLt91RESEoKWLVsiKCgI//77Lz755BOcP38epqam6NatW7ETWo3V2rVrsXz58hKHMzZt2oQdO3aU+l43ZmWNt27dujh79izs7f/77fb29vZYvXq1vkvUqvK2b506dQAAe/bswcGDByV36TnDDhEREUkaD2MRERGRpDHsEBERkaQx7BAREZGkMewQERGRpDHsEBERkaQx7BAREZGkMewQERGRpDHsEBERkaT9P4mHFByRhPRfAAAAAElFTkSuQmCC\n",
      "text/plain": [
       "<matplotlib.figure.Figure at 0x10e8b7780>"
      ]
     },
     "metadata": {},
     "output_type": "display_data"
    }
   ],
   "source": [
    "figure, ax = plt.subplots(nrows=1, ncols=2, figsize=(8, 4))\n",
    "plt.tight_layout()\n",
    "\n",
    "sat_act_sorted_df['Math_sat'].plot(kind=\"hist\", ax = ax[0],\n",
    "                                   title = 'SAT Mean Math Scores by State\\n', fontsize = 12)\n",
    "sat_act_sorted_df['Math_act'].plot(kind=\"hist\", ax = ax[1],\n",
    "                                   title = 'ACT Mean Math Scores by State\\n', fontsize = 12);"
   ]
  },
  {
   "cell_type": "markdown",
   "metadata": {},
   "source": [
    "These graphs show mean SAT and ACT test scores irrespective of the participation rate. This gives us a different perspective on how students performed on these tests, one perhaps a bit more familiar to takers of these tests. Here we see that the most common mean score on the test was below average, although one must be careful not to overinterpret these histograms since we do not know the actual student populations in these various states. State-wide averages may mask student-wide averages."
   ]
  },
  {
   "cell_type": "markdown",
   "metadata": {
    "nbpresent": {
     "id": "bc17e843-61f7-4422-9e31-72d82dc407b0"
    }
   },
   "source": [
    "##### 18. Plot the Verbal distributions from both data sets."
   ]
  },
  {
   "cell_type": "code",
   "execution_count": 54,
   "metadata": {
    "nbpresent": {
     "id": "847130b1-ca82-43aa-8a5e-7a77f6bd2c94"
    }
   },
   "outputs": [
    {
     "data": {
      "image/png": "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\n",
      "text/plain": [
       "<matplotlib.figure.Figure at 0x10f5a24e0>"
      ]
     },
     "metadata": {},
     "output_type": "display_data"
    }
   ],
   "source": [
    "figure, ax = plt.subplots(nrows=1, ncols=2, figsize=(8, 4))\n",
    "plt.tight_layout()\n",
    "\n",
    "sat_act_sorted_df['Evidence-Based Reading and Writing_sat'].plot(kind=\"hist\", ax = ax[0],\n",
    "                                   title = 'SAT Mean Verbal Scores by State\\n', fontsize = 12)\n",
    "sat_act_sorted_df['English_act'].plot(kind=\"hist\", ax = ax[1],\n",
    "                                   title = 'ACT Mean English Scores by State\\n', fontsize = 12);"
   ]
  },
  {
   "cell_type": "markdown",
   "metadata": {
    "nbpresent": {
     "id": "0eb77eba-ef0a-44d4-8042-8963b2615c95"
    }
   },
   "source": [
    "##### 19. When we make assumptions about how data are distributed, what is the most common assumption?"
   ]
  },
  {
   "cell_type": "markdown",
   "metadata": {
    "nbpresent": {
     "id": "0a6d0860-2fc1-4069-8d80-849a224080cb"
    }
   },
   "source": [
    "In my experience, the most common assumption made by statisticians about how data are distributed is that they are normally distributed."
   ]
  },
  {
   "cell_type": "markdown",
   "metadata": {
    "nbpresent": {
     "id": "42d1e5c9-ab5e-485a-93b5-17dbc70f1a5c"
    }
   },
   "source": [
    "##### 20. Does this assumption hold true for any of our columns? Which?"
   ]
  },
  {
   "cell_type": "markdown",
   "metadata": {
    "nbpresent": {
     "id": "aefcfd4b-96bd-4ce0-b209-5531429d65ab"
    }
   },
   "source": [
    "Since normal distributions generally refer to the distribution of data gathered in comparable ways tending to occur around a mean in a symmetrical fashion, thus forming the canonical \"bell shaped curve,\" if our histograms were to appear anything like a bell shaped curve it would be interesting but uninformative since the data that is represented by each block in the above histograms each represents something completely different from the others.  In other words, one block might represent the average of 200,000 student scores representing 98% of the graduating seniors of one state while another may represent the average of just 200 of another state's most eager and certainly college-bound seniors.\n",
    "\n",
    "It is therefore unsurprising that looking at histograms of our columns above or in the pairplot below there is little evidence of normal distributions in our dataset. In fact, there may be some indication of a bimodal distribution in some of the variables, particularly in the SAT scores. Moreover, there is very strong skew in our two measures of participation, albeit in opposite directions:  there were a large number of states that showed 100% participation in the ACT while at the same time there were a large number of states that had very low participation in the SAT.\n",
    "\n",
    "It is certainly true that were our samples gathered and displayed in a more typical fashion, say as an actual sample of test scores gathered from a single population, say graduating seniors from the state of California, I am confident that we would very likely see a normal distribution. Both SAT and IQ tests have been shown to be good predictors of \"general intelligence,\" or g (Frey and Detterman, 2003 <https://www.psychologicalscience.org/pdf/ps/Frey.pdf?origin=publication_detail>), and g is very well-known to be normally distributed in populations."
   ]
  },
  {
   "cell_type": "markdown",
   "metadata": {
    "nbpresent": {
     "id": "094261a0-0850-4462-a9ff-c541cf9a80a4"
    }
   },
   "source": [
    "##### 21. Plot some scatterplots examining relationships between all variables.\n"
   ]
  },
  {
   "cell_type": "code",
   "execution_count": 55,
   "metadata": {},
   "outputs": [
    {
     "data": {
      "image/png": "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
